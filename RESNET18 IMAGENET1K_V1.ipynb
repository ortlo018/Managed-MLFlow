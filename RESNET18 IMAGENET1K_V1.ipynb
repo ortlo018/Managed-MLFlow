{
 "cells": [
  {
   "cell_type": "code",
   "execution_count": 0,
   "metadata": {
    "application/vnd.databricks.v1+cell": {
     "cellMetadata": {
      "byteLimit": 2048000,
      "rowLimit": 10000
     },
     "inputWidgets": {},
     "nuid": "c99514cc-2eb3-4441-88e4-b55dd6b366ae",
     "showTitle": false,
     "title": ""
    }
   },
   "outputs": [
    {
     "output_type": "stream",
     "name": "stdout",
     "output_type": "stream",
     "text": [
      "\u001B[43mNote: you may need to restart the kernel using dbutils.library.restartPython() to use updated packages.\u001B[0m\nRequirement already satisfied: torch in /databricks/python3/lib/python3.10/site-packages (2.0.1+cu118)\nRequirement already satisfied: jinja2 in /databricks/python3/lib/python3.10/site-packages (from torch) (3.1.2)\nRequirement already satisfied: networkx in /databricks/python3/lib/python3.10/site-packages (from torch) (2.8.4)\nRequirement already satisfied: filelock in /databricks/python3/lib/python3.10/site-packages (from torch) (3.9.0)\nRequirement already satisfied: sympy in /databricks/python3/lib/python3.10/site-packages (from torch) (1.11.1)\nRequirement already satisfied: triton==2.0.0 in /databricks/python3/lib/python3.10/site-packages (from torch) (2.0.0)\nRequirement already satisfied: typing-extensions in /databricks/python3/lib/python3.10/site-packages (from torch) (4.4.0)\nRequirement already satisfied: lit in /databricks/python3/lib/python3.10/site-packages (from triton==2.0.0->torch) (17.0.2)\nRequirement already satisfied: cmake in /databricks/python3/lib/python3.10/site-packages (from triton==2.0.0->torch) (3.27.6)\nRequirement already satisfied: MarkupSafe>=2.0 in /databricks/python3/lib/python3.10/site-packages (from jinja2->torch) (2.1.1)\nRequirement already satisfied: mpmath>=0.19 in /databricks/python3/lib/python3.10/site-packages (from sympy->torch) (1.2.1)\n\u001B[43mNote: you may need to restart the kernel using dbutils.library.restartPython() to use updated packages.\u001B[0m\n"
     ]
    }
   ],
   "source": [
    "!pip install torch "
   ]
  },
  {
   "cell_type": "code",
   "execution_count": 0,
   "metadata": {
    "application/vnd.databricks.v1+cell": {
     "cellMetadata": {
      "byteLimit": 2048000,
      "rowLimit": 10000
     },
     "inputWidgets": {},
     "nuid": "7e0bb62d-4b54-4d70-b6a3-edc15344c296",
     "showTitle": false,
     "title": ""
    }
   },
   "outputs": [
    {
     "output_type": "stream",
     "name": "stdout",
     "output_type": "stream",
     "text": [
      "\u001B[43mNote: you may need to restart the kernel using dbutils.library.restartPython() to use updated packages.\u001B[0m\nRequirement already satisfied: torchvision in /databricks/python3/lib/python3.10/site-packages (0.15.2+cu118)\nRequirement already satisfied: numpy in /databricks/python3/lib/python3.10/site-packages (from torchvision) (1.23.5)\nRequirement already satisfied: pillow!=8.3.*,>=5.3.0 in /databricks/python3/lib/python3.10/site-packages (from torchvision) (9.4.0)\nRequirement already satisfied: torch==2.0.1 in /databricks/python3/lib/python3.10/site-packages (from torchvision) (2.0.1+cu118)\nRequirement already satisfied: requests in /databricks/python3/lib/python3.10/site-packages (from torchvision) (2.28.1)\nRequirement already satisfied: networkx in /databricks/python3/lib/python3.10/site-packages (from torch==2.0.1->torchvision) (2.8.4)\nRequirement already satisfied: filelock in /databricks/python3/lib/python3.10/site-packages (from torch==2.0.1->torchvision) (3.9.0)\nRequirement already satisfied: jinja2 in /databricks/python3/lib/python3.10/site-packages (from torch==2.0.1->torchvision) (3.1.2)\nRequirement already satisfied: typing-extensions in /databricks/python3/lib/python3.10/site-packages (from torch==2.0.1->torchvision) (4.4.0)\nRequirement already satisfied: sympy in /databricks/python3/lib/python3.10/site-packages (from torch==2.0.1->torchvision) (1.11.1)\nRequirement already satisfied: triton==2.0.0 in /databricks/python3/lib/python3.10/site-packages (from torch==2.0.1->torchvision) (2.0.0)\nRequirement already satisfied: cmake in /databricks/python3/lib/python3.10/site-packages (from triton==2.0.0->torch==2.0.1->torchvision) (3.27.6)\nRequirement already satisfied: lit in /databricks/python3/lib/python3.10/site-packages (from triton==2.0.0->torch==2.0.1->torchvision) (17.0.2)\nRequirement already satisfied: certifi>=2017.4.17 in /databricks/python3/lib/python3.10/site-packages (from requests->torchvision) (2022.12.7)\nRequirement already satisfied: idna<4,>=2.5 in /databricks/python3/lib/python3.10/site-packages (from requests->torchvision) (3.4)\nRequirement already satisfied: urllib3<1.27,>=1.21.1 in /databricks/python3/lib/python3.10/site-packages (from requests->torchvision) (1.26.14)\nRequirement already satisfied: charset-normalizer<3,>=2 in /databricks/python3/lib/python3.10/site-packages (from requests->torchvision) (2.0.4)\nRequirement already satisfied: MarkupSafe>=2.0 in /databricks/python3/lib/python3.10/site-packages (from jinja2->torch==2.0.1->torchvision) (2.1.1)\nRequirement already satisfied: mpmath>=0.19 in /databricks/python3/lib/python3.10/site-packages (from sympy->torch==2.0.1->torchvision) (1.2.1)\n\u001B[43mNote: you may need to restart the kernel using dbutils.library.restartPython() to use updated packages.\u001B[0m\n"
     ]
    }
   ],
   "source": [
    "!pip install torchvision "
   ]
  },
  {
   "cell_type": "code",
   "execution_count": 0,
   "metadata": {
    "application/vnd.databricks.v1+cell": {
     "cellMetadata": {
      "byteLimit": 2048000,
      "rowLimit": 10000
     },
     "inputWidgets": {},
     "nuid": "7efa1637-be3c-4531-b96f-f9504c3a71a6",
     "showTitle": false,
     "title": ""
    }
   },
   "outputs": [],
   "source": [
    "import os\n",
    "import torch\n",
    "from torchvision import models, datasets, transforms\n",
    "import torch.nn as nn\n",
    "import numpy as np\n",
    "import torch.optim as optim\n",
    "from sklearn.metrics import accuracy_score, average_precision_score, balanced_accuracy_score\n",
    "import mlflow\n",
    "import mlflow.pytorch\n",
    "from torchvision.models import resnet18, ResNet18_Weights\n",
    "from mlflow.models import infer_signature\n",
    "from torch.utils.data import random_split, ConcatDataset\n",
    "from tempfile import TemporaryDirectory"
   ]
  },
  {
   "cell_type": "code",
   "execution_count": 0,
   "metadata": {
    "application/vnd.databricks.v1+cell": {
     "cellMetadata": {
      "byteLimit": 2048000,
      "rowLimit": 10000
     },
     "inputWidgets": {},
     "nuid": "f2745a06-011f-4553-8650-818414e4ba18",
     "showTitle": false,
     "title": ""
    }
   },
   "outputs": [],
   "source": [
    "def initialize_model(device, weight, freeze_except_last_n_layers, add_loss_criteria_weights, learning_rate):\n",
    "    if weight == 'IMAGENET1K_V1':\n",
    "        model = models.resnet18(weights=ResNet18_Weights.IMAGENET1K_V1)\n",
    "    else:\n",
    "        # Handle unexpected 'weight' value\n",
    "        raise ValueError(f\"Unsupported weight value: {weight}\")       \n",
    "\n",
    "    # Freeze all layers except the last n layers\n",
    "    if freeze_except_last_n_layers == 1:\n",
    "        for name, param in model.named_parameters():\n",
    "            param.requires_grad = 'fc' in name\n",
    "    elif freeze_except_last_n_layers == 2:\n",
    "        for name, param in model.named_parameters():\n",
    "            if 'layer4' in name or 'fc' in name:\n",
    "                param.requires_grad = True\n",
    "    elif freeze_except_last_n_layers == 0:\n",
    "        for name, param in model.named_parameters():\n",
    "            param.requires_grad = True\n",
    "\n",
    "    num_ftrs = model.fc.in_features\n",
    "    model.fc = nn.Linear(num_ftrs, 2)\n",
    "\n",
    "    model = model.to(device)\n",
    "\n",
    "    if add_loss_criteria_weights == True:\n",
    "        loss_weights = torch.Tensor([2, 1]).to(device)\n",
    "        criterion = nn.CrossEntropyLoss(weight=loss_weights)\n",
    "    else:\n",
    "        criterion = nn.CrossEntropyLoss()\n",
    "    \n",
    "    optimizer = optim.Adam(model.parameters(), lr=learning_rate)\n",
    "\n",
    "    return model, criterion, optimizer\n",
    "\n",
    "def prepare_data(batch_size, data_transforms, data_dir, val_size=0.2):\n",
    "    # Load datasets\n",
    "    train_data = datasets.ImageFolder(os.path.join(data_dir, 'train'), data_transforms['train'])\n",
    "    val_data = datasets.ImageFolder(os.path.join(data_dir, 'val'), data_transforms['val'])\n",
    "    test_data = datasets.ImageFolder(os.path.join(data_dir, 'test'), data_transforms['test'])\n",
    "\n",
    "    # Calculate the size of the validation set (20% of the training set)\n",
    "    val_size = int(val_size * len(train_data))\n",
    "    train_size = len(train_data) - val_size\n",
    "\n",
    "    # Split the training set into train and validation\n",
    "    new_train_data, new_val_data = random_split(train_data, [train_size, val_size], generator=torch.Generator().manual_seed(42))\n",
    "\n",
    "    # Concatenate val_data and test_data to create new_test_data\n",
    "    new_test_data = ConcatDataset([val_data, test_data])\n",
    "\n",
    "    # Create data loaders\n",
    "    dataloaders = {\n",
    "        'train': torch.utils.data.DataLoader(new_train_data, batch_size=batch_size, shuffle=True),\n",
    "        'val': torch.utils.data.DataLoader(new_val_data, batch_size=batch_size, shuffle=False),\n",
    "        'test': torch.utils.data.DataLoader(new_test_data, batch_size=batch_size, shuffle=False)\n",
    "    }\n",
    "\n",
    "    return dataloaders\n",
    "\n",
    "def train_model(model, dataloaders, criterion, optimizer, device, num_epochs=15):\n",
    "    with TemporaryDirectory() as tempdir:\n",
    "        best_model_params_path = os.path.join(tempdir, 'best_model_params.pt')\n",
    "\n",
    "        best_val_acc = 0.0\n",
    "        best_epoch = 0\n",
    "\n",
    "        for epoch in range(num_epochs):\n",
    "            train_loss = 0\n",
    "            correct_train_preds = 0\n",
    "            total_train_samples = 0\n",
    "            print(f'Epoch {epoch}/{num_epochs - 1}')\n",
    "            print('-' * 10)\n",
    "\n",
    "            # Training phase\n",
    "            model.train()\n",
    "            for batch, [train_data, train_labels] in enumerate(dataloaders['train']):\n",
    "                optimizer.zero_grad()\n",
    "                out = model(train_data.to(device))\n",
    "                loss = criterion(out, train_labels.to(device))\n",
    "                loss.backward()\n",
    "                optimizer.step()\n",
    "                train_loss += loss.item()\n",
    "\n",
    "                _, train_preds = torch.max(out, 1)\n",
    "                correct_train_preds += torch.sum(train_preds == train_labels.to(device))\n",
    "                total_train_samples += train_labels.size(0)\n",
    "\n",
    "            train_acc = correct_train_preds.double() / total_train_samples\n",
    "            print(f'Train loss: {(train_loss / (batch + 1)):.2f}, Acc: {train_acc:.4f}')\n",
    "\n",
    "            # Validation phase\n",
    "            model.eval()\n",
    "            val_loss = 0\n",
    "            correct_val_preds = 0\n",
    "            total_val_samples = 0\n",
    "\n",
    "            for batch, [val_data, val_labels] in enumerate(dataloaders['val']):\n",
    "                out = model(val_data.to(device))\n",
    "                loss = criterion(out, val_labels.to(device))\n",
    "                val_loss += loss.item()\n",
    "\n",
    "                _, val_preds = torch.max(out, 1)\n",
    "                correct_val_preds += torch.sum(val_preds == val_labels.to(device))\n",
    "                total_val_samples += val_labels.size(0)\n",
    "\n",
    "            val_acc = correct_val_preds.double() / total_val_samples\n",
    "            print(f'Val loss: {(val_loss / (batch + 1)):.4f}, Acc: {val_acc:.4f}')\n",
    "\n",
    "            # Save the best model based on validation accuracy\n",
    "            if val_acc > best_val_acc:\n",
    "                best_val_acc = val_acc\n",
    "                best_epoch = epoch\n",
    "                torch.save(model.state_dict(), best_model_params_path)\n",
    "\n",
    "        print(f'Best Validation accuracy: {best_val_acc:.4f} at epoch {best_epoch}')\n",
    "\n",
    "        # Load the best model weights for testing\n",
    "        model.load_state_dict(torch.load(best_model_params_path))\n",
    "\n",
    "    return model, best_val_acc, best_epoch\n",
    "\n",
    "def test_model(model, dataloaders, criterion, device):\n",
    "    # Testing phase\n",
    "    model.eval()\n",
    "    test_loss = 0\n",
    "    pred_labels = []\n",
    "    true_labels = []\n",
    "\n",
    "    for batch, [test_data, test_labels] in enumerate(dataloaders['test']):\n",
    "        out = model(test_data.to(device))\n",
    "        loss = criterion(out, test_labels.to(device))\n",
    "        test_loss += loss.item()\n",
    "        output = torch.argmax(torch.nn.functional.softmax(out, dim=1), dim=1).cpu().detach().numpy()\n",
    "        for i in range(output.shape[0]):\n",
    "            pred_labels.append(output[i])\n",
    "            true_labels.append(test_labels.cpu().detach().numpy()[i])\n",
    "\n",
    "    accuracy = accuracy_score(np.array(true_labels), np.array(pred_labels))\n",
    "    average_precision = average_precision_score(np.array(true_labels), np.array(pred_labels))\n",
    "    balanced_accuracy = balanced_accuracy_score(np.array(true_labels), np.array(pred_labels))\n",
    "\n",
    "    print(f'---Testing Model---')\n",
    "    print(f'Accuracy Score: {accuracy:.4f}')\n",
    "    print(f'Average Precision Score: {average_precision:.4f}')\n",
    "    print(f'Balanced Accuracy Score: {balanced_accuracy:.4f}')\n",
    "\n",
    "    return accuracy, average_precision, balanced_accuracy\n",
    "\n",
    "def main(batch_size, num_epochs, learning_rate, weight, freeze_except_last_n_layers, add_loss_criteria_weights, exp_name):\n",
    "    with mlflow.start_run(run_name= exp_name):\n",
    "        # Data transformations\n",
    "        data_transforms = {\n",
    "            'train': transforms.Compose([\n",
    "                transforms.Resize(255),\n",
    "                transforms.CenterCrop(224),\n",
    "                transforms.ToTensor(),\n",
    "                transforms.Normalize(mean=[0.485, 0.456, 0.406], std=[0.229, 0.224, 0.225])\n",
    "            ]),\n",
    "            'val': transforms.Compose([\n",
    "                transforms.Resize((224, 224)),\n",
    "                transforms.ToTensor(),\n",
    "                transforms.Normalize(mean=[0.485, 0.456, 0.406], std=[0.229, 0.224, 0.225])\n",
    "            ]),\n",
    "            'test': transforms.Compose([\n",
    "                transforms.Resize((224, 224)),\n",
    "                transforms.ToTensor(),\n",
    "                transforms.Normalize(mean=[0.485, 0.456, 0.406], std=[0.229, 0.224, 0.225])\n",
    "            ])\n",
    "        }\n",
    "\n",
    "        # Log hyperparameters\n",
    "        mlflow.log_param(\"batch_size\", batch_size)\n",
    "        mlflow.log_param(\"num_epochs\", num_epochs)\n",
    "        mlflow.log_param(\"freeze_except_last_n_layers\", freeze_except_last_n_layers)\n",
    "        mlflow.log_param(\"add_loss_criteria_weights\", add_loss_criteria_weights)\n",
    "        mlflow.log_param(\"weight\", weight)\n",
    "\n",
    "        # Initialize model, dataloaders, optimizer, etc.\n",
    "        device = torch.device(\"cuda:0\" if torch.cuda.is_available() else \"cpu\")\n",
    "        model, criterion, optimizer = initialize_model(device, weight, freeze_except_last_n_layers, add_loss_criteria_weights, learning_rate)\n",
    "        \n",
    "        destination_path = '/dbfs/FileStore/tables/pneumonia/'\n",
    "        dataloaders = prepare_data(batch_size, data_transforms, destination_path, val_size=0.2)\n",
    "\n",
    "        # Train model and get metrics\n",
    "        best_model, best_val_acc, best_epoch= train_model(model, dataloaders, criterion, optimizer, device, num_epochs)\n",
    "        mlflow.log_metric(\"best validation accuracy\", best_val_acc)\n",
    "        accuracy, avg_precision, balanced_acc = test_model(best_model, dataloaders, criterion, device)\n",
    "\n",
    "        mlflow.log_param(\"epoch_with_best_val_accuracy\", best_epoch)\n",
    "\n",
    "        # Log metrics\n",
    "        mlflow.log_metric(\"accuracy\", accuracy)\n",
    "        mlflow.log_metric(\"average_precision\", avg_precision)\n",
    "        mlflow.log_metric(\"balanced_accuracy\", balanced_acc)\n",
    "\n",
    "        # Generate Sample Data and Convert to NumPy\n",
    "        sample_data, _ = next(iter(dataloaders['train']))\n",
    "        sample_data = sample_data.to(device)\n",
    "\n",
    "        # Predict on Sample Data to get Sample Output and Convert to NumPy\n",
    "        model.eval()  # Set the model to evaluation mode\n",
    "        with torch.no_grad():\n",
    "            sample_output = model(sample_data)\n",
    "            sample_input_np = sample_data.cpu().numpy()\n",
    "            sample_output_np = sample_output.cpu().numpy()\n",
    "\n",
    "        # Infer Signature with NumPy Arrays\n",
    "        signature = infer_signature(sample_input_np, sample_output_np)\n",
    "\n",
    "        # Log the PyTorch model\n",
    "        mlflow.pytorch.log_model(model, \"model\", signature=signature)"
   ]
  },
  {
   "cell_type": "code",
   "execution_count": 0,
   "metadata": {
    "application/vnd.databricks.v1+cell": {
     "cellMetadata": {
      "byteLimit": 2048000,
      "rowLimit": 10000
     },
     "inputWidgets": {},
     "nuid": "5bec4a49-69fd-4bc5-a911-c9f0fb1776fe",
     "showTitle": false,
     "title": ""
    }
   },
   "outputs": [
    {
     "output_type": "stream",
     "name": "stdout",
     "output_type": "stream",
     "text": [
      "Epoch 0/14\n----------\n"
     ]
    },
    {
     "output_type": "stream",
     "name": "stderr",
     "output_type": "stream",
     "text": [
      "/databricks/python/lib/python3.10/site-packages/torch/nn/modules/conv.py:459: UserWarning: Applied workaround for CuDNN issue, install nvrtc.so (Triggered internally at ../aten/src/ATen/native/cudnn/Conv_v8.cpp:80.)\n  return F.conv2d(input, weight, bias, self.stride,\n"
     ]
    },
    {
     "output_type": "stream",
     "name": "stdout",
     "output_type": "stream",
     "text": [
      "Train loss: 0.13, Acc: 0.9499\nVal loss: 0.0537, Acc: 0.9779\nEpoch 1/14\n----------\nTrain loss: 0.07, Acc: 0.9751\nVal loss: 0.0718, Acc: 0.9751\nEpoch 2/14\n----------\nTrain loss: 0.06, Acc: 0.9777\nVal loss: 0.1581, Acc: 0.9463\nEpoch 3/14\n----------\nTrain loss: 0.05, Acc: 0.9806\nVal loss: 0.1666, Acc: 0.9367\nEpoch 4/14\n----------\nTrain loss: 0.04, Acc: 0.9847\nVal loss: 0.0699, Acc: 0.9741\nEpoch 5/14\n----------\nTrain loss: 0.03, Acc: 0.9885\nVal loss: 0.0786, Acc: 0.9703\nEpoch 6/14\n----------\nTrain loss: 0.03, Acc: 0.9909\nVal loss: 0.1620, Acc: 0.9473\nEpoch 7/14\n----------\nTrain loss: 0.01, Acc: 0.9950\nVal loss: 0.1087, Acc: 0.9684\nEpoch 8/14\n----------\nTrain loss: 0.02, Acc: 0.9938\nVal loss: 0.0655, Acc: 0.9760\nEpoch 9/14\n----------\nTrain loss: 0.03, Acc: 0.9890\nVal loss: 0.0723, Acc: 0.9779\nEpoch 10/14\n----------\nTrain loss: 0.03, Acc: 0.9895\nVal loss: 0.0778, Acc: 0.9741\nEpoch 11/14\n----------\nTrain loss: 0.01, Acc: 0.9957\nVal loss: 0.1164, Acc: 0.9645\nEpoch 12/14\n----------\nTrain loss: 0.01, Acc: 0.9952\nVal loss: 0.0668, Acc: 0.9799\nEpoch 13/14\n----------\nTrain loss: 0.00, Acc: 0.9993\nVal loss: 0.0518, Acc: 0.9818\nEpoch 14/14\n----------\nTrain loss: 0.00, Acc: 1.0000\nVal loss: 0.0593, Acc: 0.9856\nBest Validation accuracy: 0.9856 at epoch 14\n---Testing Model---\nAccuracy Score: 0.9422\nAverage Precision Score: 0.9246\nBalanced Accuracy Score: 0.9300\n"
     ]
    },
    {
     "output_type": "stream",
     "name": "stderr",
     "output_type": "stream",
     "text": [
      "/databricks/python/lib/python3.10/site-packages/_distutils_hack/__init__.py:33: UserWarning: Setuptools is replacing distutils.\n  warnings.warn(\"Setuptools is replacing distutils.\")\n"
     ]
    },
    {
     "output_type": "display_data",
     "data": {
      "application/vnd.jupyter.widget-view+json": {
       "model_id": "0f3e37a8c62c422ca169cb2e280f1d9a",
       "version_major": 2,
       "version_minor": 0
      },
      "text/plain": [
       "Uploading artifacts:   0%|          | 0/6 [00:00<?, ?it/s]"
      ]
     },
     "metadata": {},
     "output_type": "display_data"
    }
   ],
   "source": [
    "# Experiment 1_1\n",
    "if __name__ == '__main__':\n",
    "    main(weight = 'IMAGENET1K_V1', batch_size = 50, num_epochs = 15, learning_rate = 0.001, freeze_except_last_n_layers = 0, add_loss_criteria_weights = False, exp_name = 'RESNET18 E_1_1')"
   ]
  },
  {
   "cell_type": "code",
   "execution_count": 0,
   "metadata": {
    "application/vnd.databricks.v1+cell": {
     "cellMetadata": {
      "byteLimit": 2048000,
      "rowLimit": 10000
     },
     "inputWidgets": {},
     "nuid": "44e5889e-e891-41ed-bd3f-67331c394999",
     "showTitle": false,
     "title": ""
    }
   },
   "outputs": [
    {
     "output_type": "stream",
     "name": "stdout",
     "output_type": "stream",
     "text": [
      "Epoch 0/14\n----------\nTrain loss: 0.15, Acc: 0.9437\nVal loss: 0.3107, Acc: 0.8945\nEpoch 1/14\n----------\nTrain loss: 0.06, Acc: 0.9801\nVal loss: 0.0375, Acc: 0.9866\nEpoch 2/14\n----------\nTrain loss: 0.03, Acc: 0.9914\nVal loss: 0.0725, Acc: 0.9760\nEpoch 3/14\n----------\nTrain loss: 0.02, Acc: 0.9940\nVal loss: 0.0450, Acc: 0.9818\nEpoch 4/14\n----------\nTrain loss: 0.02, Acc: 0.9921\nVal loss: 0.1446, Acc: 0.9578\nEpoch 5/14\n----------\nTrain loss: 0.02, Acc: 0.9909\nVal loss: 0.0904, Acc: 0.9655\nEpoch 6/14\n----------\nTrain loss: 0.01, Acc: 0.9959\nVal loss: 0.0774, Acc: 0.9732\nEpoch 7/14\n----------\nTrain loss: 0.02, Acc: 0.9919\nVal loss: 0.0649, Acc: 0.9779\nEpoch 8/14\n----------\nTrain loss: 0.01, Acc: 0.9954\nVal loss: 0.0428, Acc: 0.9875\nEpoch 9/14\n----------\nTrain loss: 0.03, Acc: 0.9887\nVal loss: 0.5794, Acc: 0.8610\nEpoch 10/14\n----------\nTrain loss: 0.03, Acc: 0.9892\nVal loss: 0.1045, Acc: 0.9674\nEpoch 11/14\n----------\nTrain loss: 0.01, Acc: 0.9962\nVal loss: 0.0900, Acc: 0.9770\nEpoch 12/14\n----------\nTrain loss: 0.01, Acc: 0.9981\nVal loss: 0.1247, Acc: 0.9732\nEpoch 13/14\n----------\nTrain loss: 0.00, Acc: 0.9998\nVal loss: 0.0488, Acc: 0.9866\nEpoch 14/14\n----------\nTrain loss: 0.00, Acc: 0.9998\nVal loss: 0.0524, Acc: 0.9827\nBest Validation accuracy: 0.9875 at epoch 8\n---Testing Model---\nAccuracy Score: 0.8938\nAverage Precision Score: 0.9293\nBalanced Accuracy Score: 0.9113\n"
     ]
    },
    {
     "output_type": "display_data",
     "data": {
      "application/vnd.jupyter.widget-view+json": {
       "model_id": "d780d7824c8743c6a6f1dd2a752e177a",
       "version_major": 2,
       "version_minor": 0
      },
      "text/plain": [
       "Uploading artifacts:   0%|          | 0/6 [00:00<?, ?it/s]"
      ]
     },
     "metadata": {},
     "output_type": "display_data"
    }
   ],
   "source": [
    "# Experiment 1_2\n",
    "if __name__ == '__main__':\n",
    "    main(weight = 'IMAGENET1K_V1', batch_size = 100, num_epochs = 15, learning_rate = 0.001, freeze_except_last_n_layers = 0, add_loss_criteria_weights = False, exp_name = 'RESNET18 E_1_2')"
   ]
  },
  {
   "cell_type": "code",
   "execution_count": 0,
   "metadata": {
    "application/vnd.databricks.v1+cell": {
     "cellMetadata": {
      "byteLimit": 2048000,
      "rowLimit": 10000
     },
     "inputWidgets": {},
     "nuid": "fc8ecc62-8b7a-4e0d-ab05-155b2d779c99",
     "showTitle": false,
     "title": ""
    }
   },
   "outputs": [
    {
     "output_type": "stream",
     "name": "stdout",
     "output_type": "stream",
     "text": [
      "Epoch 0/14\n----------\nTrain loss: 0.17, Acc: 0.9315\nVal loss: 0.2159, Acc: 0.9233\nEpoch 1/14\n----------\nTrain loss: 0.06, Acc: 0.9787\nVal loss: 0.0461, Acc: 0.9818\nEpoch 2/14\n----------\nTrain loss: 0.02, Acc: 0.9935\nVal loss: 0.0638, Acc: 0.9770\nEpoch 3/14\n----------\nTrain loss: 0.01, Acc: 0.9976\nVal loss: 0.1093, Acc: 0.9664\nEpoch 4/14\n----------\nTrain loss: 0.01, Acc: 0.9957\nVal loss: 0.0486, Acc: 0.9847\nEpoch 5/14\n----------\nTrain loss: 0.01, Acc: 0.9966\nVal loss: 0.0578, Acc: 0.9808\nEpoch 6/14\n----------\nTrain loss: 0.01, Acc: 0.9942\nVal loss: 0.0881, Acc: 0.9770\nEpoch 7/14\n----------\nTrain loss: 0.01, Acc: 0.9971\nVal loss: 0.0431, Acc: 0.9895\nEpoch 8/14\n----------\nTrain loss: 0.02, Acc: 0.9933\nVal loss: 0.1692, Acc: 0.9511\nEpoch 9/14\n----------\nTrain loss: 0.02, Acc: 0.9938\nVal loss: 0.0543, Acc: 0.9808\nEpoch 10/14\n----------\nTrain loss: 0.01, Acc: 0.9971\nVal loss: 0.0470, Acc: 0.9875\nEpoch 11/14\n----------\nTrain loss: 0.00, Acc: 0.9986\nVal loss: 0.0730, Acc: 0.9741\nEpoch 12/14\n----------\nTrain loss: 0.00, Acc: 0.9993\nVal loss: 0.1193, Acc: 0.9751\nEpoch 13/14\n----------\nTrain loss: 0.00, Acc: 0.9988\nVal loss: 0.0882, Acc: 0.9722\nEpoch 14/14\n----------\nTrain loss: 0.00, Acc: 0.9995\nVal loss: 0.0562, Acc: 0.9818\nBest Validation accuracy: 0.9895 at epoch 7\n---Testing Model---\nAccuracy Score: 0.8922\nAverage Precision Score: 0.8658\nBalanced Accuracy Score: 0.8688\n"
     ]
    },
    {
     "output_type": "display_data",
     "data": {
      "application/vnd.jupyter.widget-view+json": {
       "model_id": "b8d1d12d45884ca6932e03f9e6f08a32",
       "version_major": 2,
       "version_minor": 0
      },
      "text/plain": [
       "Uploading artifacts:   0%|          | 0/6 [00:00<?, ?it/s]"
      ]
     },
     "metadata": {},
     "output_type": "display_data"
    }
   ],
   "source": [
    "# Experiment 1_3\n",
    "if __name__ == '__main__':\n",
    "    main(weight = 'IMAGENET1K_V1', batch_size = 150, num_epochs = 15, learning_rate = 0.001, freeze_except_last_n_layers = 0, add_loss_criteria_weights = False, exp_name = 'RESNET18 E_1_3')"
   ]
  },
  {
   "cell_type": "code",
   "execution_count": 0,
   "metadata": {
    "application/vnd.databricks.v1+cell": {
     "cellMetadata": {
      "byteLimit": 2048000,
      "rowLimit": 10000
     },
     "inputWidgets": {},
     "nuid": "789297b6-0b67-447f-9f19-f0f63bf79ba7",
     "showTitle": false,
     "title": ""
    }
   },
   "outputs": [
    {
     "output_type": "stream",
     "name": "stdout",
     "output_type": "stream",
     "text": [
      "Epoch 0/14\n----------\nTrain loss: 0.20, Acc: 0.9168\nVal loss: 1.1811, Acc: 0.7872\nEpoch 1/14\n----------\nTrain loss: 0.05, Acc: 0.9815\nVal loss: 0.0933, Acc: 0.9636\nEpoch 2/14\n----------\nTrain loss: 0.02, Acc: 0.9909\nVal loss: 0.0699, Acc: 0.9732\nEpoch 3/14\n----------\nTrain loss: 0.02, Acc: 0.9945\nVal loss: 0.0483, Acc: 0.9827\nEpoch 4/14\n----------\nTrain loss: 0.01, Acc: 0.9978\nVal loss: 0.0520, Acc: 0.9799\nEpoch 5/14\n----------\nTrain loss: 0.01, Acc: 0.9986\nVal loss: 0.0605, Acc: 0.9799\nEpoch 6/14\n----------\nTrain loss: 0.00, Acc: 1.0000\nVal loss: 0.0406, Acc: 0.9866\nEpoch 7/14\n----------\nTrain loss: 0.00, Acc: 1.0000\nVal loss: 0.0422, Acc: 0.9866\nEpoch 8/14\n----------\nTrain loss: 0.00, Acc: 1.0000\nVal loss: 0.0397, Acc: 0.9847\nEpoch 9/14\n----------\nTrain loss: 0.00, Acc: 1.0000\nVal loss: 0.0360, Acc: 0.9866\nEpoch 10/14\n----------\nTrain loss: 0.00, Acc: 1.0000\nVal loss: 0.0356, Acc: 0.9866\nEpoch 11/14\n----------\nTrain loss: 0.00, Acc: 1.0000\nVal loss: 0.0364, Acc: 0.9866\nEpoch 12/14\n----------\nTrain loss: 0.00, Acc: 1.0000\nVal loss: 0.0605, Acc: 0.9827\nEpoch 13/14\n----------\nTrain loss: 0.00, Acc: 1.0000\nVal loss: 0.0387, Acc: 0.9866\nEpoch 14/14\n----------\nTrain loss: 0.00, Acc: 1.0000\nVal loss: 0.0544, Acc: 0.9856\nBest Validation accuracy: 0.9866 at epoch 6\n---Testing Model---\nAccuracy Score: 0.9281\nAverage Precision Score: 0.9054\nBalanced Accuracy Score: 0.9114\n"
     ]
    },
    {
     "output_type": "stream",
     "name": "stderr",
     "output_type": "stream",
     "text": [
      "2023/12/01 08:19:14 WARNING mlflow.utils.environment: Encountered an unexpected error while inferring pip requirements (model URI: /local_disk0/repl_tmp_data/ReplId-46d7d-0d5cc-2a578-e/tmpmo7er0bw/model/data, flavor: pytorch), fall back to return ['torch==2.0.1', 'cloudpickle==2.0.0']. Set logging level to DEBUG to see the full traceback.\n"
     ]
    },
    {
     "output_type": "display_data",
     "data": {
      "application/vnd.jupyter.widget-view+json": {
       "model_id": "3de78e7933fa4a89a49cc8ddf3c13c28",
       "version_major": 2,
       "version_minor": 0
      },
      "text/plain": [
       "Uploading artifacts:   0%|          | 0/6 [00:00<?, ?it/s]"
      ]
     },
     "metadata": {},
     "output_type": "display_data"
    }
   ],
   "source": [
    "# Experiment 1_4\n",
    "if __name__ == '__main__':\n",
    "    main(weight = 'IMAGENET1K_V1', batch_size = 200, num_epochs = 15, learning_rate = 0.001, freeze_except_last_n_layers = 0, add_loss_criteria_weights = False, exp_name = 'RESNET18 E_1_4')"
   ]
  },
  {
   "cell_type": "code",
   "execution_count": 0,
   "metadata": {
    "application/vnd.databricks.v1+cell": {
     "cellMetadata": {
      "byteLimit": 2048000,
      "rowLimit": 10000
     },
     "inputWidgets": {},
     "nuid": "2b192de9-a893-4823-8cc4-7002eea1b6f7",
     "showTitle": false,
     "title": ""
    }
   },
   "outputs": [
    {
     "output_type": "stream",
     "name": "stdout",
     "output_type": "stream",
     "text": [
      "Epoch 0/14\n----------\nTrain loss: 0.15, Acc: 0.9451\nVal loss: 0.0726, Acc: 0.9645\nEpoch 1/14\n----------\nTrain loss: 0.07, Acc: 0.9708\nVal loss: 0.0821, Acc: 0.9655\nEpoch 2/14\n----------\nTrain loss: 0.05, Acc: 0.9847\nVal loss: 0.1038, Acc: 0.9674\nEpoch 3/14\n----------\nTrain loss: 0.04, Acc: 0.9847\nVal loss: 0.3270, Acc: 0.8936\nEpoch 4/14\n----------\nTrain loss: 0.05, Acc: 0.9835\nVal loss: 0.1565, Acc: 0.9501\nEpoch 5/14\n----------\nTrain loss: 0.03, Acc: 0.9890\nVal loss: 0.1915, Acc: 0.9358\nEpoch 6/14\n----------\nTrain loss: 0.02, Acc: 0.9926\nVal loss: 0.0497, Acc: 0.9856\nEpoch 7/14\n----------\nTrain loss: 0.03, Acc: 0.9911\nVal loss: 0.0839, Acc: 0.9693\nEpoch 8/14\n----------\nTrain loss: 0.02, Acc: 0.9945\nVal loss: 0.0568, Acc: 0.9837\nEpoch 9/14\n----------\nTrain loss: 0.01, Acc: 0.9978\nVal loss: 0.0467, Acc: 0.9847\nEpoch 10/14\n----------\nTrain loss: 0.03, Acc: 0.9914\nVal loss: 0.0656, Acc: 0.9799\nEpoch 11/14\n----------\nTrain loss: 0.02, Acc: 0.9935\nVal loss: 0.1183, Acc: 0.9664\nEpoch 12/14\n----------\nTrain loss: 0.02, Acc: 0.9928\nVal loss: 0.0412, Acc: 0.9847\nEpoch 13/14\n----------\nTrain loss: 0.01, Acc: 0.9976\nVal loss: 0.0459, Acc: 0.9827\nEpoch 14/14\n----------\nTrain loss: 0.01, Acc: 0.9976\nVal loss: 0.1465, Acc: 0.9636\nBest Validation accuracy: 0.9856 at epoch 6\n---Testing Model---\nAccuracy Score: 0.9187\nAverage Precision Score: 0.8998\nBalanced Accuracy Score: 0.9039\n"
     ]
    },
    {
     "output_type": "stream",
     "name": "stderr",
     "output_type": "stream",
     "text": [
      "2023/12/01 09:00:49 WARNING mlflow.utils.environment: Encountered an unexpected error while inferring pip requirements (model URI: /local_disk0/repl_tmp_data/ReplId-46d7d-0d5cc-2a578-e/tmpqq608y_c/model/data, flavor: pytorch), fall back to return ['torch==2.0.1', 'cloudpickle==2.0.0']. Set logging level to DEBUG to see the full traceback.\n"
     ]
    },
    {
     "output_type": "display_data",
     "data": {
      "application/vnd.jupyter.widget-view+json": {
       "model_id": "f969a7b2879b4d7bb2c01bd2d20a3e8d",
       "version_major": 2,
       "version_minor": 0
      },
      "text/plain": [
       "Uploading artifacts:   0%|          | 0/6 [00:00<?, ?it/s]"
      ]
     },
     "metadata": {},
     "output_type": "display_data"
    }
   ],
   "source": [
    "# Experiment 1_5\n",
    "if __name__ == '__main__':\n",
    "    main(weight = 'IMAGENET1K_V1', batch_size = 50, num_epochs = 15, learning_rate = 0.001, freeze_except_last_n_layers = 2, add_loss_criteria_weights = False, exp_name = 'RESNET18 E_1_5')"
   ]
  },
  {
   "cell_type": "code",
   "execution_count": 0,
   "metadata": {
    "application/vnd.databricks.v1+cell": {
     "cellMetadata": {
      "byteLimit": 2048000,
      "rowLimit": 10000
     },
     "inputWidgets": {},
     "nuid": "45326e0c-4a30-4099-930e-4d694d35b591",
     "showTitle": false,
     "title": ""
    }
   },
   "outputs": [
    {
     "output_type": "stream",
     "name": "stdout",
     "output_type": "stream",
     "text": [
      "Epoch 0/14\n----------\nTrain loss: 0.14, Acc: 0.9497\nVal loss: 0.0688, Acc: 0.9789\nEpoch 1/14\n----------\nTrain loss: 0.05, Acc: 0.9815\nVal loss: 0.5034, Acc: 0.8447\nEpoch 2/14\n----------\nTrain loss: 0.03, Acc: 0.9875\nVal loss: 0.0984, Acc: 0.9684\nEpoch 3/14\n----------\nTrain loss: 0.02, Acc: 0.9938\nVal loss: 0.0938, Acc: 0.9751\nEpoch 4/14\n----------\nTrain loss: 0.02, Acc: 0.9938\nVal loss: 0.0423, Acc: 0.9827\nEpoch 5/14\n----------\nTrain loss: 0.02, Acc: 0.9916\nVal loss: 0.1974, Acc: 0.9319\nEpoch 6/14\n----------\nTrain loss: 0.02, Acc: 0.9931\nVal loss: 0.0835, Acc: 0.9751\nEpoch 7/14\n----------\nTrain loss: 0.02, Acc: 0.9931\nVal loss: 0.0931, Acc: 0.9741\nEpoch 8/14\n----------\nTrain loss: 0.00, Acc: 0.9990\nVal loss: 0.0868, Acc: 0.9722\nEpoch 9/14\n----------\nTrain loss: 0.01, Acc: 0.9954\nVal loss: 0.0442, Acc: 0.9875\nEpoch 10/14\n----------\nTrain loss: 0.00, Acc: 0.9983\nVal loss: 0.1250, Acc: 0.9732\nEpoch 11/14\n----------\nTrain loss: 0.01, Acc: 0.9952\nVal loss: 0.0909, Acc: 0.9770\nEpoch 12/14\n----------\nTrain loss: 0.02, Acc: 0.9916\nVal loss: 0.5988, Acc: 0.8725\nEpoch 13/14\n----------\nTrain loss: 0.01, Acc: 0.9969\nVal loss: 0.0780, Acc: 0.9760\nEpoch 14/14\n----------\nTrain loss: 0.01, Acc: 0.9969\nVal loss: 0.2821, Acc: 0.9195\nBest Validation accuracy: 0.9875 at epoch 9\n---Testing Model---\nAccuracy Score: 0.9234\nAverage Precision Score: 0.9026\nBalanced Accuracy Score: 0.9077\n"
     ]
    },
    {
     "output_type": "stream",
     "name": "stderr",
     "output_type": "stream",
     "text": [
      "2023/12/01 09:42:32 WARNING mlflow.utils.environment: Encountered an unexpected error while inferring pip requirements (model URI: /local_disk0/repl_tmp_data/ReplId-46d7d-0d5cc-2a578-e/tmplqanzxmy/model/data, flavor: pytorch), fall back to return ['torch==2.0.1', 'cloudpickle==2.0.0']. Set logging level to DEBUG to see the full traceback.\n"
     ]
    },
    {
     "output_type": "display_data",
     "data": {
      "application/vnd.jupyter.widget-view+json": {
       "model_id": "8c5961a52f8147988606976049d49721",
       "version_major": 2,
       "version_minor": 0
      },
      "text/plain": [
       "Uploading artifacts:   0%|          | 0/6 [00:00<?, ?it/s]"
      ]
     },
     "metadata": {},
     "output_type": "display_data"
    }
   ],
   "source": [
    "# Experiment 1_6\n",
    "if __name__ == '__main__':\n",
    "    main(weight = 'IMAGENET1K_V1', batch_size = 100, num_epochs = 15, learning_rate = 0.001, freeze_except_last_n_layers = 2, add_loss_criteria_weights = False, exp_name = 'RESNET18 E_1_6')"
   ]
  },
  {
   "cell_type": "code",
   "execution_count": 0,
   "metadata": {
    "application/vnd.databricks.v1+cell": {
     "cellMetadata": {
      "byteLimit": 2048000,
      "rowLimit": 10000
     },
     "inputWidgets": {},
     "nuid": "44fb6914-58f9-4aa5-80e9-5d4bbd272556",
     "showTitle": false,
     "title": ""
    }
   },
   "outputs": [
    {
     "output_type": "stream",
     "name": "stdout",
     "output_type": "stream",
     "text": [
      "Epoch 0/14\n----------\nTrain loss: 0.19, Acc: 0.9212\nVal loss: 1.2151, Acc: 0.7689\nEpoch 1/14\n----------\nTrain loss: 0.05, Acc: 0.9813\nVal loss: 0.0497, Acc: 0.9789\nEpoch 2/14\n----------\nTrain loss: 0.02, Acc: 0.9919\nVal loss: 0.0443, Acc: 0.9866\nEpoch 3/14\n----------\nTrain loss: 0.01, Acc: 0.9974\nVal loss: 0.0764, Acc: 0.9751\nEpoch 4/14\n----------\nTrain loss: 0.01, Acc: 0.9962\nVal loss: 0.0617, Acc: 0.9808\nEpoch 5/14\n----------\nTrain loss: 0.01, Acc: 0.9964\nVal loss: 0.0700, Acc: 0.9741\nEpoch 6/14\n----------\nTrain loss: 0.01, Acc: 0.9969\nVal loss: 0.1723, Acc: 0.9492\nEpoch 7/14\n----------\nTrain loss: 0.01, Acc: 0.9969\nVal loss: 0.2179, Acc: 0.9348\nEpoch 8/14\n----------\nTrain loss: 0.01, Acc: 0.9954\nVal loss: 0.1949, Acc: 0.9521\nEpoch 9/14\n----------\nTrain loss: 0.01, Acc: 0.9952\nVal loss: 0.0934, Acc: 0.9703\nEpoch 10/14\n----------\nTrain loss: 0.01, Acc: 0.9950\nVal loss: 0.1138, Acc: 0.9616\nEpoch 11/14\n----------\nTrain loss: 0.02, Acc: 0.9935\nVal loss: 0.0573, Acc: 0.9799\nEpoch 12/14\n----------\nTrain loss: 0.01, Acc: 0.9983\nVal loss: 1.1433, Acc: 0.7766\nEpoch 13/14\n----------\nTrain loss: 0.01, Acc: 0.9983\nVal loss: 0.0630, Acc: 0.9799\nEpoch 14/14\n----------\nTrain loss: 0.00, Acc: 0.9995\nVal loss: 0.0424, Acc: 0.9866\nBest Validation accuracy: 0.9866 at epoch 2\n---Testing Model---\nAccuracy Score: 0.9047\nAverage Precision Score: 0.8794\nBalanced Accuracy Score: 0.8837\n"
     ]
    },
    {
     "output_type": "stream",
     "name": "stderr",
     "output_type": "stream",
     "text": [
      "2023/12/01 10:24:28 WARNING mlflow.utils.environment: Encountered an unexpected error while inferring pip requirements (model URI: /local_disk0/repl_tmp_data/ReplId-46d7d-0d5cc-2a578-e/tmp0zd3x09f/model/data, flavor: pytorch), fall back to return ['torch==2.0.1', 'cloudpickle==2.0.0']. Set logging level to DEBUG to see the full traceback.\n"
     ]
    },
    {
     "output_type": "display_data",
     "data": {
      "application/vnd.jupyter.widget-view+json": {
       "model_id": "363d2ead20db4a83b224828a20287912",
       "version_major": 2,
       "version_minor": 0
      },
      "text/plain": [
       "Uploading artifacts:   0%|          | 0/6 [00:00<?, ?it/s]"
      ]
     },
     "metadata": {},
     "output_type": "display_data"
    }
   ],
   "source": [
    "# Experiment 1_7\n",
    "if __name__ == '__main__':\n",
    "    main(weight = 'IMAGENET1K_V1', batch_size = 150, num_epochs = 15, learning_rate = 0.001, freeze_except_last_n_layers = 2, add_loss_criteria_weights = False, exp_name = 'RESNET18 E_1_7')"
   ]
  },
  {
   "cell_type": "code",
   "execution_count": 0,
   "metadata": {
    "application/vnd.databricks.v1+cell": {
     "cellMetadata": {
      "byteLimit": 2048000,
      "rowLimit": 10000
     },
     "inputWidgets": {},
     "nuid": "ce410785-f8ea-447a-aa0c-44040969b3d9",
     "showTitle": false,
     "title": ""
    }
   },
   "outputs": [
    {
     "output_type": "stream",
     "name": "stdout",
     "output_type": "stream",
     "text": [
      "Epoch 0/14\n----------\nTrain loss: 0.22, Acc: 0.9183\nVal loss: 2.1341, Acc: 0.6491\nEpoch 1/14\n----------\nTrain loss: 0.05, Acc: 0.9806\nVal loss: 0.0925, Acc: 0.9616\nEpoch 2/14\n----------\nTrain loss: 0.02, Acc: 0.9935\nVal loss: 0.0596, Acc: 0.9808\nEpoch 3/14\n----------\nTrain loss: 0.01, Acc: 0.9959\nVal loss: 0.0584, Acc: 0.9837\nEpoch 4/14\n----------\nTrain loss: 0.01, Acc: 0.9976\nVal loss: 0.0448, Acc: 0.9789\nEpoch 5/14\n----------\nTrain loss: 0.00, Acc: 0.9986\nVal loss: 0.0727, Acc: 0.9827\nEpoch 6/14\n----------\nTrain loss: 0.00, Acc: 0.9995\nVal loss: 0.0487, Acc: 0.9837\nEpoch 7/14\n----------\nTrain loss: 0.00, Acc: 1.0000\nVal loss: 0.0456, Acc: 0.9885\nEpoch 8/14\n----------\nTrain loss: 0.00, Acc: 1.0000\nVal loss: 0.1055, Acc: 0.9770\nEpoch 9/14\n----------\nTrain loss: 0.00, Acc: 0.9998\nVal loss: 0.0659, Acc: 0.9827\nEpoch 10/14\n----------\nTrain loss: 0.00, Acc: 1.0000\nVal loss: 0.0565, Acc: 0.9866\nEpoch 11/14\n----------\nTrain loss: 0.00, Acc: 1.0000\nVal loss: 0.0370, Acc: 0.9875\nEpoch 12/14\n----------\nTrain loss: 0.00, Acc: 1.0000\nVal loss: 0.0536, Acc: 0.9866\nEpoch 13/14\n----------\nTrain loss: 0.00, Acc: 1.0000\nVal loss: 0.0364, Acc: 0.9866\nEpoch 14/14\n----------\nTrain loss: 0.00, Acc: 1.0000\nVal loss: 0.0311, Acc: 0.9866\nBest Validation accuracy: 0.9885 at epoch 7\n---Testing Model---\nAccuracy Score: 0.9375\nAverage Precision Score: 0.9205\nBalanced Accuracy Score: 0.9255\n"
     ]
    },
    {
     "output_type": "stream",
     "name": "stderr",
     "output_type": "stream",
     "text": [
      "2023/12/01 11:06:28 WARNING mlflow.utils.environment: Encountered an unexpected error while inferring pip requirements (model URI: /local_disk0/repl_tmp_data/ReplId-46d7d-0d5cc-2a578-e/tmpm6jf1r3p/model/data, flavor: pytorch), fall back to return ['torch==2.0.1', 'cloudpickle==2.0.0']. Set logging level to DEBUG to see the full traceback.\n"
     ]
    },
    {
     "output_type": "display_data",
     "data": {
      "application/vnd.jupyter.widget-view+json": {
       "model_id": "d0b2ef05b55f45ab9ba7b923da9ce686",
       "version_major": 2,
       "version_minor": 0
      },
      "text/plain": [
       "Uploading artifacts:   0%|          | 0/6 [00:00<?, ?it/s]"
      ]
     },
     "metadata": {},
     "output_type": "display_data"
    }
   ],
   "source": [
    "# Experiment 1_8\n",
    "if __name__ == '__main__':\n",
    "    main(weight = 'IMAGENET1K_V1', batch_size = 200, num_epochs = 15, learning_rate = 0.001, freeze_except_last_n_layers = 2, add_loss_criteria_weights = False, exp_name = 'RESNET18 E_1_8')"
   ]
  },
  {
   "cell_type": "code",
   "execution_count": 0,
   "metadata": {
    "application/vnd.databricks.v1+cell": {
     "cellMetadata": {
      "byteLimit": 2048000,
      "rowLimit": 10000
     },
     "inputWidgets": {},
     "nuid": "be6f788f-0b7d-46a1-916f-0465afe0f35a",
     "showTitle": false,
     "title": ""
    }
   },
   "outputs": [
    {
     "output_type": "stream",
     "name": "stdout",
     "output_type": "stream",
     "text": [
      "Epoch 0/14\n----------\nTrain loss: 0.27, Acc: 0.8946\nVal loss: 0.1607, Acc: 0.9415\nEpoch 1/14\n----------\nTrain loss: 0.16, Acc: 0.9444\nVal loss: 0.1427, Acc: 0.9473\nEpoch 2/14\n----------\nTrain loss: 0.13, Acc: 0.9482\nVal loss: 0.1270, Acc: 0.9530\nEpoch 3/14\n----------\nTrain loss: 0.13, Acc: 0.9516\nVal loss: 0.1231, Acc: 0.9549\nEpoch 4/14\n----------\nTrain loss: 0.12, Acc: 0.9571\nVal loss: 0.1194, Acc: 0.9559\nEpoch 5/14\n----------\nTrain loss: 0.12, Acc: 0.9549\nVal loss: 0.1075, Acc: 0.9616\nEpoch 6/14\n----------\nTrain loss: 0.10, Acc: 0.9629\nVal loss: 0.1063, Acc: 0.9636\nEpoch 7/14\n----------\nTrain loss: 0.11, Acc: 0.9581\nVal loss: 0.1064, Acc: 0.9645\nEpoch 8/14\n----------\nTrain loss: 0.10, Acc: 0.9612\nVal loss: 0.1034, Acc: 0.9655\nEpoch 9/14\n----------\nTrain loss: 0.11, Acc: 0.9621\nVal loss: 0.1032, Acc: 0.9645\nEpoch 10/14\n----------\nTrain loss: 0.10, Acc: 0.9633\nVal loss: 0.1002, Acc: 0.9674\nEpoch 11/14\n----------\nTrain loss: 0.11, Acc: 0.9583\nVal loss: 0.0961, Acc: 0.9693\nEpoch 12/14\n----------\nTrain loss: 0.10, Acc: 0.9626\nVal loss: 0.1063, Acc: 0.9607\nEpoch 13/14\n----------\nTrain loss: 0.09, Acc: 0.9665\nVal loss: 0.0943, Acc: 0.9655\nEpoch 14/14\n----------\nTrain loss: 0.09, Acc: 0.9665\nVal loss: 0.0987, Acc: 0.9684\nBest Validation accuracy: 0.9693 at epoch 11\n---Testing Model---\nAccuracy Score: 0.8875\nAverage Precision Score: 0.8631\nBalanced Accuracy Score: 0.8650\n"
     ]
    },
    {
     "output_type": "stream",
     "name": "stderr",
     "output_type": "stream",
     "text": [
      "2023/12/01 11:47:53 WARNING mlflow.utils.environment: Encountered an unexpected error while inferring pip requirements (model URI: /local_disk0/repl_tmp_data/ReplId-46d7d-0d5cc-2a578-e/tmplbt4x7k1/model/data, flavor: pytorch), fall back to return ['torch==2.0.1', 'cloudpickle==2.0.0']. Set logging level to DEBUG to see the full traceback.\n"
     ]
    },
    {
     "output_type": "display_data",
     "data": {
      "application/vnd.jupyter.widget-view+json": {
       "model_id": "0b6ffdbee5a14768b2f61fada20bd264",
       "version_major": 2,
       "version_minor": 0
      },
      "text/plain": [
       "Uploading artifacts:   0%|          | 0/6 [00:00<?, ?it/s]"
      ]
     },
     "metadata": {},
     "output_type": "display_data"
    }
   ],
   "source": [
    "# Experiment 1_9\n",
    "if __name__ == '__main__':\n",
    "    main(weight = 'IMAGENET1K_V1', batch_size = 50, num_epochs = 15, learning_rate = 0.001, freeze_except_last_n_layers = 1, add_loss_criteria_weights = False, exp_name = 'RESNET18 E_1_9')"
   ]
  },
  {
   "cell_type": "code",
   "execution_count": 0,
   "metadata": {
    "application/vnd.databricks.v1+cell": {
     "cellMetadata": {
      "byteLimit": 2048000,
      "rowLimit": 10000
     },
     "inputWidgets": {},
     "nuid": "81587dec-1381-41b4-8275-22bb83fd9d57",
     "showTitle": false,
     "title": ""
    }
   },
   "outputs": [
    {
     "output_type": "stream",
     "name": "stdout",
     "output_type": "stream",
     "text": [
      "Epoch 0/14\n----------\nTrain loss: 0.29, Acc: 0.8816\nVal loss: 0.2558, Acc: 0.9099\nEpoch 1/14\n----------\nTrain loss: 0.17, Acc: 0.9391\nVal loss: 0.1715, Acc: 0.9367\nEpoch 2/14\n----------\nTrain loss: 0.15, Acc: 0.9456\nVal loss: 0.1452, Acc: 0.9492\nEpoch 3/14\n----------\nTrain loss: 0.14, Acc: 0.9509\nVal loss: 0.1415, Acc: 0.9492\nEpoch 4/14\n----------\nTrain loss: 0.13, Acc: 0.9521\nVal loss: 0.1299, Acc: 0.9530\nEpoch 5/14\n----------\nTrain loss: 0.12, Acc: 0.9533\nVal loss: 0.1238, Acc: 0.9530\nEpoch 6/14\n----------\nTrain loss: 0.11, Acc: 0.9569\nVal loss: 0.1228, Acc: 0.9569\nEpoch 7/14\n----------\nTrain loss: 0.11, Acc: 0.9621\nVal loss: 0.1184, Acc: 0.9569\nEpoch 8/14\n----------\nTrain loss: 0.11, Acc: 0.9593\nVal loss: 0.1133, Acc: 0.9578\nEpoch 9/14\n----------\nTrain loss: 0.10, Acc: 0.9621\nVal loss: 0.1103, Acc: 0.9626\nEpoch 10/14\n----------\nTrain loss: 0.10, Acc: 0.9648\nVal loss: 0.1075, Acc: 0.9636\nEpoch 11/14\n----------\nTrain loss: 0.10, Acc: 0.9629\nVal loss: 0.1400, Acc: 0.9473\nEpoch 12/14\n----------\nTrain loss: 0.10, Acc: 0.9629\nVal loss: 0.1033, Acc: 0.9626\nEpoch 13/14\n----------\nTrain loss: 0.09, Acc: 0.9641\nVal loss: 0.1049, Acc: 0.9626\nEpoch 14/14\n----------\nTrain loss: 0.09, Acc: 0.9667\nVal loss: 0.1078, Acc: 0.9607\nBest Validation accuracy: 0.9636 at epoch 10\n---Testing Model---\nAccuracy Score: 0.8922\nAverage Precision Score: 0.8807\nBalanced Accuracy Score: 0.8801\n"
     ]
    },
    {
     "output_type": "stream",
     "name": "stderr",
     "output_type": "stream",
     "text": [
      "2023/12/01 12:29:17 WARNING mlflow.utils.environment: Encountered an unexpected error while inferring pip requirements (model URI: /local_disk0/repl_tmp_data/ReplId-46d7d-0d5cc-2a578-e/tmpn1u272ha/model/data, flavor: pytorch), fall back to return ['torch==2.0.1', 'cloudpickle==2.0.0']. Set logging level to DEBUG to see the full traceback.\n"
     ]
    },
    {
     "output_type": "display_data",
     "data": {
      "application/vnd.jupyter.widget-view+json": {
       "model_id": "8534ddfc78ea454786b316a4578805ee",
       "version_major": 2,
       "version_minor": 0
      },
      "text/plain": [
       "Uploading artifacts:   0%|          | 0/6 [00:00<?, ?it/s]"
      ]
     },
     "metadata": {},
     "output_type": "display_data"
    }
   ],
   "source": [
    "# Experiment 1_10\n",
    "if __name__ == '__main__':\n",
    "    main(weight = 'IMAGENET1K_V1', batch_size = 100, num_epochs = 15, learning_rate = 0.001, freeze_except_last_n_layers = 1, add_loss_criteria_weights = False, exp_name = 'RESNET18 E_1_10')"
   ]
  },
  {
   "cell_type": "code",
   "execution_count": 0,
   "metadata": {
    "application/vnd.databricks.v1+cell": {
     "cellMetadata": {
      "byteLimit": 2048000,
      "rowLimit": 10000
     },
     "inputWidgets": {},
     "nuid": "4e35c27a-25ce-401d-b89d-cfd542005b45",
     "showTitle": false,
     "title": ""
    }
   },
   "outputs": [
    {
     "output_type": "stream",
     "name": "stdout",
     "output_type": "stream",
     "text": [
      "Epoch 0/14\n----------\nTrain loss: 0.48, Acc: 0.7803\nVal loss: 0.4978, Acc: 0.7478\nEpoch 1/14\n----------\nTrain loss: 0.26, Acc: 0.9228\nVal loss: 0.2684, Acc: 0.8840\nEpoch 2/14\n----------\nTrain loss: 0.19, Acc: 0.9367\nVal loss: 0.1816, Acc: 0.9319\nEpoch 3/14\n----------\nTrain loss: 0.17, Acc: 0.9391\nVal loss: 0.1592, Acc: 0.9406\nEpoch 4/14\n----------\nTrain loss: 0.16, Acc: 0.9478\nVal loss: 0.1489, Acc: 0.9473\nEpoch 5/14\n----------\nTrain loss: 0.14, Acc: 0.9473\nVal loss: 0.1409, Acc: 0.9463\nEpoch 6/14\n----------\nTrain loss: 0.13, Acc: 0.9514\nVal loss: 0.1353, Acc: 0.9492\nEpoch 7/14\n----------\nTrain loss: 0.13, Acc: 0.9533\nVal loss: 0.1285, Acc: 0.9521\nEpoch 8/14\n----------\nTrain loss: 0.12, Acc: 0.9554\nVal loss: 0.1276, Acc: 0.9511\nEpoch 9/14\n----------\nTrain loss: 0.12, Acc: 0.9549\nVal loss: 0.1227, Acc: 0.9521\nEpoch 10/14\n----------\nTrain loss: 0.12, Acc: 0.9561\nVal loss: 0.1200, Acc: 0.9549\nEpoch 11/14\n----------\nTrain loss: 0.11, Acc: 0.9585\nVal loss: 0.1149, Acc: 0.9549\nEpoch 12/14\n----------\nTrain loss: 0.11, Acc: 0.9597\nVal loss: 0.1219, Acc: 0.9559\nEpoch 13/14\n----------\nTrain loss: 0.11, Acc: 0.9588\nVal loss: 0.1105, Acc: 0.9597\nEpoch 14/14\n----------\nTrain loss: 0.11, Acc: 0.9633\nVal loss: 0.1150, Acc: 0.9540\nBest Validation accuracy: 0.9597 at epoch 13\n---Testing Model---\nAccuracy Score: 0.8891\nAverage Precision Score: 0.8799\nBalanced Accuracy Score: 0.8784\n"
     ]
    },
    {
     "output_type": "stream",
     "name": "stderr",
     "output_type": "stream",
     "text": [
      "2023/12/01 13:10:38 WARNING mlflow.utils.environment: Encountered an unexpected error while inferring pip requirements (model URI: /local_disk0/repl_tmp_data/ReplId-46d7d-0d5cc-2a578-e/tmpwt_e7sws/model/data, flavor: pytorch), fall back to return ['torch==2.0.1', 'cloudpickle==2.0.0']. Set logging level to DEBUG to see the full traceback.\n"
     ]
    },
    {
     "output_type": "display_data",
     "data": {
      "application/vnd.jupyter.widget-view+json": {
       "model_id": "1db62b671a4245a0a18697fee4015346",
       "version_major": 2,
       "version_minor": 0
      },
      "text/plain": [
       "Uploading artifacts:   0%|          | 0/6 [00:00<?, ?it/s]"
      ]
     },
     "metadata": {},
     "output_type": "display_data"
    }
   ],
   "source": [
    "# Experiment 1_11\n",
    "if __name__ == '__main__':\n",
    "    main(weight = 'IMAGENET1K_V1', batch_size = 150, num_epochs = 15, learning_rate = 0.001, freeze_except_last_n_layers = 1, add_loss_criteria_weights = False, exp_name = 'RESNET18 E_1_11')"
   ]
  },
  {
   "cell_type": "code",
   "execution_count": 0,
   "metadata": {
    "application/vnd.databricks.v1+cell": {
     "cellMetadata": {
      "byteLimit": 2048000,
      "rowLimit": 10000
     },
     "inputWidgets": {},
     "nuid": "8514f7ce-b8a4-40d8-9d55-1dff2b6f7b33",
     "showTitle": false,
     "title": ""
    }
   },
   "outputs": [
    {
     "output_type": "stream",
     "name": "stdout",
     "output_type": "stream",
     "text": [
      "Epoch 0/14\n----------\nTrain loss: 0.46, Acc: 0.8052\nVal loss: 0.5620, Acc: 0.7296\nEpoch 1/14\n----------\nTrain loss: 0.25, Acc: 0.9123\nVal loss: 0.3706, Acc: 0.7987\nEpoch 2/14\n----------\nTrain loss: 0.19, Acc: 0.9372\nVal loss: 0.2203, Acc: 0.9012\nEpoch 3/14\n----------\nTrain loss: 0.16, Acc: 0.9444\nVal loss: 0.1759, Acc: 0.9482\nEpoch 4/14\n----------\nTrain loss: 0.15, Acc: 0.9468\nVal loss: 0.1618, Acc: 0.9501\nEpoch 5/14\n----------\nTrain loss: 0.14, Acc: 0.9518\nVal loss: 0.1547, Acc: 0.9549\nEpoch 6/14\n----------\nTrain loss: 0.13, Acc: 0.9518\nVal loss: 0.1485, Acc: 0.9521\nEpoch 7/14\n----------\nTrain loss: 0.12, Acc: 0.9554\nVal loss: 0.1474, Acc: 0.9569\nEpoch 8/14\n----------\nTrain loss: 0.12, Acc: 0.9573\nVal loss: 0.1410, Acc: 0.9530\nEpoch 9/14\n----------\nTrain loss: 0.12, Acc: 0.9526\nVal loss: 0.1386, Acc: 0.9559\nEpoch 10/14\n----------\nTrain loss: 0.12, Acc: 0.9564\nVal loss: 0.1307, Acc: 0.9578\nEpoch 11/14\n----------\nTrain loss: 0.11, Acc: 0.9583\nVal loss: 0.1274, Acc: 0.9588\nEpoch 12/14\n----------\nTrain loss: 0.11, Acc: 0.9617\nVal loss: 0.1254, Acc: 0.9616\nEpoch 13/14\n----------\nTrain loss: 0.11, Acc: 0.9581\nVal loss: 0.1217, Acc: 0.9607\nEpoch 14/14\n----------\nTrain loss: 0.10, Acc: 0.9621\nVal loss: 0.1211, Acc: 0.9607\nBest Validation accuracy: 0.9616 at epoch 12\n---Testing Model---\nAccuracy Score: 0.8828\nAverage Precision Score: 0.8807\nBalanced Accuracy Score: 0.8766\n"
     ]
    },
    {
     "output_type": "stream",
     "name": "stderr",
     "output_type": "stream",
     "text": [
      "2023/12/01 13:52:21 WARNING mlflow.utils.environment: Encountered an unexpected error while inferring pip requirements (model URI: /local_disk0/repl_tmp_data/ReplId-46d7d-0d5cc-2a578-e/tmphxc1kng8/model/data, flavor: pytorch), fall back to return ['torch==2.0.1', 'cloudpickle==2.0.0']. Set logging level to DEBUG to see the full traceback.\n"
     ]
    },
    {
     "output_type": "display_data",
     "data": {
      "application/vnd.jupyter.widget-view+json": {
       "model_id": "81d37487671e4e6480ffc5830e276634",
       "version_major": 2,
       "version_minor": 0
      },
      "text/plain": [
       "Uploading artifacts:   0%|          | 0/6 [00:00<?, ?it/s]"
      ]
     },
     "metadata": {},
     "output_type": "display_data"
    }
   ],
   "source": [
    "# Experiment 1_12\n",
    "if __name__ == '__main__':\n",
    "    main(weight = 'IMAGENET1K_V1', batch_size = 200, num_epochs = 15, learning_rate = 0.001, freeze_except_last_n_layers = 1, add_loss_criteria_weights = False, exp_name = 'RESNET18 E_1_12')"
   ]
  },
  {
   "cell_type": "code",
   "execution_count": 0,
   "metadata": {
    "application/vnd.databricks.v1+cell": {
     "cellMetadata": {
      "byteLimit": 2048000,
      "rowLimit": 10000
     },
     "inputWidgets": {},
     "nuid": "d8920cf4-33e8-40b0-868f-2ffa0a0d97e7",
     "showTitle": false,
     "title": ""
    }
   },
   "outputs": [
    {
     "output_type": "stream",
     "name": "stdout",
     "output_type": "stream",
     "text": [
      "Epoch 0/14\n----------\nTrain loss: 0.15, Acc: 0.9449\nVal loss: 0.1240, Acc: 0.9684\nEpoch 1/14\n----------\nTrain loss: 0.07, Acc: 0.9756\nVal loss: 0.1186, Acc: 0.9712\nEpoch 2/14\n----------\nTrain loss: 0.05, Acc: 0.9866\nVal loss: 0.2296, Acc: 0.9089\nEpoch 3/14\n----------\nTrain loss: 0.05, Acc: 0.9803\nVal loss: 0.0801, Acc: 0.9684\nEpoch 4/14\n----------\nTrain loss: 0.05, Acc: 0.9825\nVal loss: 0.1845, Acc: 0.9137\nEpoch 5/14\n----------\nTrain loss: 0.06, Acc: 0.9792\nVal loss: 0.0760, Acc: 0.9779\nEpoch 6/14\n----------\nTrain loss: 0.04, Acc: 0.9897\nVal loss: 0.1255, Acc: 0.9712\nEpoch 7/14\n----------\nTrain loss: 0.02, Acc: 0.9940\nVal loss: 0.0660, Acc: 0.9693\nEpoch 8/14\n----------\nTrain loss: 0.02, Acc: 0.9923\nVal loss: 1.7277, Acc: 0.7824\nEpoch 9/14\n----------\nTrain loss: 0.03, Acc: 0.9899\nVal loss: 0.0601, Acc: 0.9818\nEpoch 10/14\n----------\nTrain loss: 0.01, Acc: 0.9971\nVal loss: 0.2855, Acc: 0.9492\nEpoch 11/14\n----------\nTrain loss: 0.01, Acc: 0.9947\nVal loss: 0.0553, Acc: 0.9837\nEpoch 12/14\n----------\nTrain loss: 0.01, Acc: 0.9962\nVal loss: 0.0659, Acc: 0.9827\nEpoch 13/14\n----------\nTrain loss: 0.01, Acc: 0.9986\nVal loss: 0.2479, Acc: 0.9664\nEpoch 14/14\n----------\nTrain loss: 0.02, Acc: 0.9899\nVal loss: 0.1013, Acc: 0.9770\nBest Validation accuracy: 0.9837 at epoch 11\n---Testing Model---\nAccuracy Score: 0.9141\nAverage Precision Score: 0.8948\nBalanced Accuracy Score: 0.8985\n"
     ]
    },
    {
     "output_type": "stream",
     "name": "stderr",
     "output_type": "stream",
     "text": [
      "2023/12/01 14:34:57 WARNING mlflow.utils.environment: Encountered an unexpected error while inferring pip requirements (model URI: /local_disk0/repl_tmp_data/ReplId-46d7d-0d5cc-2a578-e/tmpfmb5oi5h/model/data, flavor: pytorch), fall back to return ['torch==2.0.1', 'cloudpickle==2.0.0']. Set logging level to DEBUG to see the full traceback.\n"
     ]
    },
    {
     "output_type": "display_data",
     "data": {
      "application/vnd.jupyter.widget-view+json": {
       "model_id": "9786a1cb98b449baa4df1950db16b68a",
       "version_major": 2,
       "version_minor": 0
      },
      "text/plain": [
       "Uploading artifacts:   0%|          | 0/6 [00:00<?, ?it/s]"
      ]
     },
     "metadata": {},
     "output_type": "display_data"
    }
   ],
   "source": [
    "# Experiment 1_13\n",
    "if __name__ == '__main__':\n",
    "    main(weight = 'IMAGENET1K_V1', batch_size = 50, num_epochs = 15, learning_rate = 0.001, freeze_except_last_n_layers = 0, add_loss_criteria_weights = True, exp_name = 'RESNET18 E_1_13')"
   ]
  },
  {
   "cell_type": "code",
   "execution_count": 0,
   "metadata": {
    "application/vnd.databricks.v1+cell": {
     "cellMetadata": {
      "byteLimit": 2048000,
      "rowLimit": 10000
     },
     "inputWidgets": {},
     "nuid": "99409b3e-6769-4386-8047-a7301cf7112a",
     "showTitle": false,
     "title": ""
    }
   },
   "outputs": [
    {
     "output_type": "stream",
     "name": "stdout",
     "output_type": "stream",
     "text": [
      "Epoch 0/14\n----------\nTrain loss: 0.16, Acc: 0.9422\nVal loss: 0.1148, Acc: 0.9425\nEpoch 1/14\n----------\nTrain loss: 0.06, Acc: 0.9830\nVal loss: 0.0594, Acc: 0.9808\nEpoch 2/14\n----------\nTrain loss: 0.04, Acc: 0.9854\nVal loss: 0.0793, Acc: 0.9789\nEpoch 3/14\n----------\nTrain loss: 0.02, Acc: 0.9921\nVal loss: 0.2172, Acc: 0.9511\nEpoch 4/14\n----------\nTrain loss: 0.03, Acc: 0.9907\nVal loss: 0.0726, Acc: 0.9799\nEpoch 5/14\n----------\nTrain loss: 0.02, Acc: 0.9914\nVal loss: 0.1595, Acc: 0.9434\nEpoch 6/14\n----------\nTrain loss: 0.03, Acc: 0.9897\nVal loss: 0.0799, Acc: 0.9799\nEpoch 7/14\n----------\nTrain loss: 0.01, Acc: 0.9964\nVal loss: 0.0784, Acc: 0.9760\nEpoch 8/14\n----------\nTrain loss: 0.02, Acc: 0.9952\nVal loss: 0.1030, Acc: 0.9779\nEpoch 9/14\n----------\nTrain loss: 0.01, Acc: 0.9969\nVal loss: 0.1669, Acc: 0.9684\nEpoch 10/14\n----------\nTrain loss: 0.03, Acc: 0.9907\nVal loss: 0.0703, Acc: 0.9779\nEpoch 11/14\n----------\nTrain loss: 0.01, Acc: 0.9969\nVal loss: 0.0481, Acc: 0.9866\nEpoch 12/14\n----------\nTrain loss: 0.00, Acc: 0.9981\nVal loss: 0.0639, Acc: 0.9760\nEpoch 13/14\n----------\nTrain loss: 0.01, Acc: 0.9981\nVal loss: 0.1235, Acc: 0.9779\nEpoch 14/14\n----------\nTrain loss: 0.00, Acc: 0.9974\nVal loss: 0.1623, Acc: 0.9779\nBest Validation accuracy: 0.9866 at epoch 11\n---Testing Model---\nAccuracy Score: 0.8844\nAverage Precision Score: 0.8515\nBalanced Accuracy Score: 0.8544\n"
     ]
    },
    {
     "output_type": "stream",
     "name": "stderr",
     "output_type": "stream",
     "text": [
      "2023/12/01 15:17:18 WARNING mlflow.utils.environment: Encountered an unexpected error while inferring pip requirements (model URI: /local_disk0/repl_tmp_data/ReplId-46d7d-0d5cc-2a578-e/tmpksk83e9e/model/data, flavor: pytorch), fall back to return ['torch==2.0.1', 'cloudpickle==2.0.0']. Set logging level to DEBUG to see the full traceback.\n"
     ]
    },
    {
     "output_type": "display_data",
     "data": {
      "application/vnd.jupyter.widget-view+json": {
       "model_id": "12ba3165aaeb433daa34a9cce183eb7b",
       "version_major": 2,
       "version_minor": 0
      },
      "text/plain": [
       "Uploading artifacts:   0%|          | 0/6 [00:00<?, ?it/s]"
      ]
     },
     "metadata": {},
     "output_type": "display_data"
    }
   ],
   "source": [
    "# Experiment 1_14\n",
    "if __name__ == '__main__':\n",
    "    main(weight = 'IMAGENET1K_V1', batch_size = 100, num_epochs = 15, learning_rate = 0.001, freeze_except_last_n_layers = 0, add_loss_criteria_weights = True, exp_name = 'RESNET18 E_1_14')"
   ]
  },
  {
   "cell_type": "code",
   "execution_count": 0,
   "metadata": {
    "application/vnd.databricks.v1+cell": {
     "cellMetadata": {
      "byteLimit": 2048000,
      "rowLimit": 10000
     },
     "inputWidgets": {},
     "nuid": "488877f0-4d89-4d78-b420-660fe6364e0e",
     "showTitle": false,
     "title": ""
    }
   },
   "outputs": [
    {
     "output_type": "stream",
     "name": "stdout",
     "output_type": "stream",
     "text": [
      "Epoch 0/14\n----------\nTrain loss: 0.25, Acc: 0.9224\nVal loss: 0.1610, Acc: 0.9358\nEpoch 1/14\n----------\nTrain loss: 0.06, Acc: 0.9770\nVal loss: 0.1285, Acc: 0.9453\nEpoch 2/14\n----------\nTrain loss: 0.04, Acc: 0.9861\nVal loss: 0.0601, Acc: 0.9779\nEpoch 3/14\n----------\nTrain loss: 0.02, Acc: 0.9945\nVal loss: 0.0574, Acc: 0.9799\nEpoch 4/14\n----------\nTrain loss: 0.02, Acc: 0.9945\nVal loss: 0.0748, Acc: 0.9827\nEpoch 5/14\n----------\nTrain loss: 0.01, Acc: 0.9976\nVal loss: 0.0831, Acc: 0.9712\nEpoch 6/14\n----------\nTrain loss: 0.01, Acc: 0.9981\nVal loss: 0.0842, Acc: 0.9818\nEpoch 7/14\n----------\nTrain loss: 0.02, Acc: 0.9945\nVal loss: 0.0651, Acc: 0.9741\nEpoch 8/14\n----------\nTrain loss: 0.01, Acc: 0.9964\nVal loss: 0.0816, Acc: 0.9799\nEpoch 9/14\n----------\nTrain loss: 0.02, Acc: 0.9945\nVal loss: 0.3128, Acc: 0.9396\nEpoch 10/14\n----------\nTrain loss: 0.01, Acc: 0.9969\nVal loss: 0.1466, Acc: 0.9530\nEpoch 11/14\n----------\nTrain loss: 0.01, Acc: 0.9957\nVal loss: 0.4322, Acc: 0.9310\nEpoch 12/14\n----------\nTrain loss: 0.02, Acc: 0.9950\nVal loss: 0.1397, Acc: 0.9760\nEpoch 13/14\n----------\nTrain loss: 0.01, Acc: 0.9976\nVal loss: 0.0908, Acc: 0.9760\nEpoch 14/14\n----------\nTrain loss: 0.01, Acc: 0.9986\nVal loss: 0.1221, Acc: 0.9779\nBest Validation accuracy: 0.9827 at epoch 4\n---Testing Model---\nAccuracy Score: 0.9313\nAverage Precision Score: 0.9156\nBalanced Accuracy Score: 0.9196\n"
     ]
    },
    {
     "output_type": "stream",
     "name": "stderr",
     "output_type": "stream",
     "text": [
      "2023/12/01 15:59:47 WARNING mlflow.utils.environment: Encountered an unexpected error while inferring pip requirements (model URI: /local_disk0/repl_tmp_data/ReplId-46d7d-0d5cc-2a578-e/tmp2u25f8nf/model/data, flavor: pytorch), fall back to return ['torch==2.0.1', 'cloudpickle==2.0.0']. Set logging level to DEBUG to see the full traceback.\n"
     ]
    },
    {
     "output_type": "display_data",
     "data": {
      "application/vnd.jupyter.widget-view+json": {
       "model_id": "8fa05bb26397431389f52ebc5c1e8eca",
       "version_major": 2,
       "version_minor": 0
      },
      "text/plain": [
       "Uploading artifacts:   0%|          | 0/6 [00:00<?, ?it/s]"
      ]
     },
     "metadata": {},
     "output_type": "display_data"
    }
   ],
   "source": [
    "# Experiment 1_15\n",
    "if __name__ == '__main__':\n",
    "    main(weight = 'IMAGENET1K_V1', batch_size = 150, num_epochs = 15, learning_rate = 0.001, freeze_except_last_n_layers = 0, add_loss_criteria_weights = True, exp_name = 'RESNET18 E_1_15')"
   ]
  },
  {
   "cell_type": "code",
   "execution_count": 0,
   "metadata": {
    "application/vnd.databricks.v1+cell": {
     "cellMetadata": {
      "byteLimit": 2048000,
      "rowLimit": 10000
     },
     "inputWidgets": {},
     "nuid": "b685d738-ae19-40ed-8ec5-17619463cf56",
     "showTitle": false,
     "title": ""
    }
   },
   "outputs": [
    {
     "output_type": "stream",
     "name": "stdout",
     "output_type": "stream",
     "text": [
      "Epoch 0/14\n----------\nTrain loss: 0.22, Acc: 0.9293\nVal loss: 0.2688, Acc: 0.8945\nEpoch 1/14\n----------\nTrain loss: 0.05, Acc: 0.9811\nVal loss: 0.0808, Acc: 0.9684\nEpoch 2/14\n----------\nTrain loss: 0.02, Acc: 0.9935\nVal loss: 0.0401, Acc: 0.9866\nEpoch 3/14\n----------\nTrain loss: 0.01, Acc: 0.9964\nVal loss: 0.2344, Acc: 0.9616\nEpoch 4/14\n----------\nTrain loss: 0.01, Acc: 0.9983\nVal loss: 0.1013, Acc: 0.9847\nEpoch 5/14\n----------\nTrain loss: 0.01, Acc: 0.9969\nVal loss: 0.1489, Acc: 0.9693\nEpoch 6/14\n----------\nTrain loss: 0.05, Acc: 0.9835\nVal loss: 0.0925, Acc: 0.9741\nEpoch 7/14\n----------\nTrain loss: 0.02, Acc: 0.9928\nVal loss: 0.3978, Acc: 0.8945\nEpoch 8/14\n----------\nTrain loss: 0.01, Acc: 0.9957\nVal loss: 0.1369, Acc: 0.9578\nEpoch 9/14\n----------\nTrain loss: 0.00, Acc: 0.9986\nVal loss: 0.0638, Acc: 0.9885\nEpoch 10/14\n----------\nTrain loss: 0.00, Acc: 0.9995\nVal loss: 0.0735, Acc: 0.9866\nEpoch 11/14\n----------\nTrain loss: 0.00, Acc: 0.9998\nVal loss: 0.1844, Acc: 0.9674\nEpoch 12/14\n----------\nTrain loss: 0.00, Acc: 1.0000\nVal loss: 0.0453, Acc: 0.9895\nEpoch 13/14\n----------\nTrain loss: 0.00, Acc: 1.0000\nVal loss: 0.0511, Acc: 0.9885\nEpoch 14/14\n----------\nTrain loss: 0.00, Acc: 1.0000\nVal loss: 0.0471, Acc: 0.9875\nBest Validation accuracy: 0.9895 at epoch 12\n---Testing Model---\nAccuracy Score: 0.9484\nAverage Precision Score: 0.9453\nBalanced Accuracy Score: 0.9456\n"
     ]
    },
    {
     "output_type": "stream",
     "name": "stderr",
     "output_type": "stream",
     "text": [
      "2023/12/01 16:42:22 WARNING mlflow.utils.environment: Encountered an unexpected error while inferring pip requirements (model URI: /local_disk0/repl_tmp_data/ReplId-46d7d-0d5cc-2a578-e/tmpmentok84/model/data, flavor: pytorch), fall back to return ['torch==2.0.1', 'cloudpickle==2.0.0']. Set logging level to DEBUG to see the full traceback.\n"
     ]
    },
    {
     "output_type": "display_data",
     "data": {
      "application/vnd.jupyter.widget-view+json": {
       "model_id": "466e1ef0baff41d4b0a3476047ba096c",
       "version_major": 2,
       "version_minor": 0
      },
      "text/plain": [
       "Uploading artifacts:   0%|          | 0/6 [00:00<?, ?it/s]"
      ]
     },
     "metadata": {},
     "output_type": "display_data"
    }
   ],
   "source": [
    "# Experiment 1_16\n",
    "if __name__ == '__main__':\n",
    "    main(weight = 'IMAGENET1K_V1', batch_size = 200, num_epochs = 15, learning_rate = 0.001, freeze_except_last_n_layers = 0, add_loss_criteria_weights = True, exp_name = 'RESNET18 E_1_16')"
   ]
  },
  {
   "cell_type": "code",
   "execution_count": 0,
   "metadata": {
    "application/vnd.databricks.v1+cell": {
     "cellMetadata": {
      "byteLimit": 2048000,
      "rowLimit": 10000
     },
     "inputWidgets": {},
     "nuid": "cbb34a8e-8195-4924-9938-c039aab9aa4e",
     "showTitle": false,
     "title": ""
    }
   },
   "outputs": [
    {
     "output_type": "stream",
     "name": "stdout",
     "output_type": "stream",
     "text": [
      "Epoch 0/14\n----------\nTrain loss: 0.16, Acc: 0.9482\nVal loss: 0.0693, Acc: 0.9799\nEpoch 1/14\n----------\nTrain loss: 0.07, Acc: 0.9741\nVal loss: 0.1033, Acc: 0.9741\nEpoch 2/14\n----------\nTrain loss: 0.08, Acc: 0.9734\nVal loss: 0.0664, Acc: 0.9722\nEpoch 3/14\n----------\nTrain loss: 0.06, Acc: 0.9789\nVal loss: 0.1958, Acc: 0.9616\nEpoch 4/14\n----------\nTrain loss: 0.04, Acc: 0.9863\nVal loss: 0.0637, Acc: 0.9732\nEpoch 5/14\n----------\nTrain loss: 0.03, Acc: 0.9892\nVal loss: 0.1592, Acc: 0.9406\nEpoch 6/14\n----------\nTrain loss: 0.04, Acc: 0.9861\nVal loss: 0.2455, Acc: 0.9473\nEpoch 7/14\n----------\nTrain loss: 0.03, Acc: 0.9890\nVal loss: 0.3847, Acc: 0.9425\nEpoch 8/14\n----------\nTrain loss: 0.01, Acc: 0.9952\nVal loss: 0.0570, Acc: 0.9827\nEpoch 9/14\n----------\nTrain loss: 0.01, Acc: 0.9964\nVal loss: 0.0999, Acc: 0.9808\nEpoch 10/14\n----------\nTrain loss: 0.03, Acc: 0.9909\nVal loss: 0.1004, Acc: 0.9779\nEpoch 11/14\n----------\nTrain loss: 0.01, Acc: 0.9969\nVal loss: 0.0936, Acc: 0.9770\nEpoch 12/14\n----------\nTrain loss: 0.02, Acc: 0.9909\nVal loss: 0.0823, Acc: 0.9827\nEpoch 13/14\n----------\nTrain loss: 0.02, Acc: 0.9950\nVal loss: 0.6641, Acc: 0.8984\nEpoch 14/14\n----------\nTrain loss: 0.02, Acc: 0.9928\nVal loss: 0.0487, Acc: 0.9818\nBest Validation accuracy: 0.9827 at epoch 8\n---Testing Model---\nAccuracy Score: 0.9281\nAverage Precision Score: 0.9161\nBalanced Accuracy Score: 0.9187\n"
     ]
    },
    {
     "output_type": "stream",
     "name": "stderr",
     "output_type": "stream",
     "text": [
      "2023/12/01 17:24:52 WARNING mlflow.utils.environment: Encountered an unexpected error while inferring pip requirements (model URI: /local_disk0/repl_tmp_data/ReplId-46d7d-0d5cc-2a578-e/tmpmsda7y4r/model/data, flavor: pytorch), fall back to return ['torch==2.0.1', 'cloudpickle==2.0.0']. Set logging level to DEBUG to see the full traceback.\n"
     ]
    },
    {
     "output_type": "display_data",
     "data": {
      "application/vnd.jupyter.widget-view+json": {
       "model_id": "4a779fd4d8f648c1acbbdfdcdf941a9d",
       "version_major": 2,
       "version_minor": 0
      },
      "text/plain": [
       "Uploading artifacts:   0%|          | 0/6 [00:00<?, ?it/s]"
      ]
     },
     "metadata": {},
     "output_type": "display_data"
    }
   ],
   "source": [
    "# Experiment 1_17\n",
    "if __name__ == '__main__':\n",
    "    main(weight = 'IMAGENET1K_V1', batch_size = 50, num_epochs = 15, learning_rate = 0.001, freeze_except_last_n_layers = 2, add_loss_criteria_weights = True, exp_name = 'RESNET18 E_1_17')"
   ]
  },
  {
   "cell_type": "code",
   "execution_count": 0,
   "metadata": {
    "application/vnd.databricks.v1+cell": {
     "cellMetadata": {
      "byteLimit": 2048000,
      "rowLimit": 10000
     },
     "inputWidgets": {},
     "nuid": "915c2d04-5b1b-47c3-a53d-1c5059080b7d",
     "showTitle": false,
     "title": ""
    }
   },
   "outputs": [
    {
     "output_type": "stream",
     "name": "stdout",
     "output_type": "stream",
     "text": [
      "Epoch 0/14\n----------\nTrain loss: 0.17, Acc: 0.9387\nVal loss: 0.1072, Acc: 0.9578\nEpoch 1/14\n----------\nTrain loss: 0.06, Acc: 0.9815\nVal loss: 0.0599, Acc: 0.9799\nEpoch 2/14\n----------\nTrain loss: 0.03, Acc: 0.9909\nVal loss: 0.0490, Acc: 0.9779\nEpoch 3/14\n----------\nTrain loss: 0.02, Acc: 0.9931\nVal loss: 0.0539, Acc: 0.9818\nEpoch 4/14\n----------\nTrain loss: 0.02, Acc: 0.9933\nVal loss: 0.2679, Acc: 0.9492\nEpoch 5/14\n----------\nTrain loss: 0.01, Acc: 0.9966\nVal loss: 0.0379, Acc: 0.9799\nEpoch 6/14\n----------\nTrain loss: 0.00, Acc: 0.9988\nVal loss: 0.1651, Acc: 0.9453\nEpoch 7/14\n----------\nTrain loss: 0.01, Acc: 0.9954\nVal loss: 0.0774, Acc: 0.9779\nEpoch 8/14\n----------\nTrain loss: 0.03, Acc: 0.9885\nVal loss: 0.1020, Acc: 0.9607\nEpoch 9/14\n----------\nTrain loss: 0.05, Acc: 0.9839\nVal loss: 0.1657, Acc: 0.9684\nEpoch 10/14\n----------\nTrain loss: 0.02, Acc: 0.9947\nVal loss: 0.0609, Acc: 0.9837\nEpoch 11/14\n----------\nTrain loss: 0.01, Acc: 0.9966\nVal loss: 0.0804, Acc: 0.9789\nEpoch 12/14\n----------\nTrain loss: 0.00, Acc: 0.9986\nVal loss: 0.0637, Acc: 0.9837\nEpoch 13/14\n----------\nTrain loss: 0.00, Acc: 0.9993\nVal loss: 0.0607, Acc: 0.9837\nEpoch 14/14\n----------\nTrain loss: 0.01, Acc: 0.9986\nVal loss: 0.1146, Acc: 0.9770\nBest Validation accuracy: 0.9837 at epoch 10\n---Testing Model---\nAccuracy Score: 0.8391\nAverage Precision Score: 0.7952\nBalanced Accuracy Score: 0.7880\n"
     ]
    },
    {
     "output_type": "stream",
     "name": "stderr",
     "output_type": "stream",
     "text": [
      "2023/12/01 18:07:16 WARNING mlflow.utils.environment: Encountered an unexpected error while inferring pip requirements (model URI: /local_disk0/repl_tmp_data/ReplId-46d7d-0d5cc-2a578-e/tmp3_712960/model/data, flavor: pytorch), fall back to return ['torch==2.0.1', 'cloudpickle==2.0.0']. Set logging level to DEBUG to see the full traceback.\n"
     ]
    },
    {
     "output_type": "display_data",
     "data": {
      "application/vnd.jupyter.widget-view+json": {
       "model_id": "230624f37a574302beb8da62b0ba92dc",
       "version_major": 2,
       "version_minor": 0
      },
      "text/plain": [
       "Uploading artifacts:   0%|          | 0/6 [00:00<?, ?it/s]"
      ]
     },
     "metadata": {},
     "output_type": "display_data"
    }
   ],
   "source": [
    "# Experiment 1_18\n",
    "if __name__ == '__main__':\n",
    "    main(weight = 'IMAGENET1K_V1', batch_size = 100, num_epochs = 15, learning_rate = 0.001, freeze_except_last_n_layers = 2, add_loss_criteria_weights = True, exp_name = 'RESNET18 E_1_18')"
   ]
  },
  {
   "cell_type": "code",
   "execution_count": 0,
   "metadata": {
    "application/vnd.databricks.v1+cell": {
     "cellMetadata": {
      "byteLimit": 2048000,
      "rowLimit": 10000
     },
     "inputWidgets": {},
     "nuid": "88ba8deb-321a-470d-9a03-392c02109882",
     "showTitle": false,
     "title": ""
    }
   },
   "outputs": [
    {
     "output_type": "stream",
     "name": "stdout",
     "output_type": "stream",
     "text": [
      "Epoch 0/14\n----------\nTrain loss: 0.17, Acc: 0.9410\nVal loss: 0.1582, Acc: 0.9406\nEpoch 1/14\n----------\nTrain loss: 0.05, Acc: 0.9839\nVal loss: 0.1314, Acc: 0.9463\nEpoch 2/14\n----------\nTrain loss: 0.04, Acc: 0.9866\nVal loss: 0.0417, Acc: 0.9866\nEpoch 3/14\n----------\nTrain loss: 0.03, Acc: 0.9928\nVal loss: 0.0793, Acc: 0.9808\nEpoch 4/14\n----------\nTrain loss: 0.01, Acc: 0.9954\nVal loss: 0.0906, Acc: 0.9751\nEpoch 5/14\n----------\nTrain loss: 0.02, Acc: 0.9921\nVal loss: 0.0694, Acc: 0.9770\nEpoch 6/14\n----------\nTrain loss: 0.01, Acc: 0.9964\nVal loss: 0.0951, Acc: 0.9751\nEpoch 7/14\n----------\nTrain loss: 0.01, Acc: 0.9959\nVal loss: 0.0980, Acc: 0.9799\nEpoch 8/14\n----------\nTrain loss: 0.01, Acc: 0.9986\nVal loss: 0.0668, Acc: 0.9808\nEpoch 9/14\n----------\nTrain loss: 0.00, Acc: 0.9983\nVal loss: 0.1216, Acc: 0.9779\nEpoch 10/14\n----------\nTrain loss: 0.01, Acc: 0.9981\nVal loss: 0.0480, Acc: 0.9856\nEpoch 11/14\n----------\nTrain loss: 0.01, Acc: 0.9969\nVal loss: 0.0620, Acc: 0.9875\nEpoch 12/14\n----------\nTrain loss: 0.00, Acc: 0.9988\nVal loss: 0.0854, Acc: 0.9866\nEpoch 13/14\n----------\nTrain loss: 0.00, Acc: 0.9998\nVal loss: 0.0577, Acc: 0.9837\nEpoch 14/14\n----------\nTrain loss: 0.00, Acc: 0.9995\nVal loss: 0.0974, Acc: 0.9827\nBest Validation accuracy: 0.9875 at epoch 11\n---Testing Model---\nAccuracy Score: 0.9172\nAverage Precision Score: 0.8966\nBalanced Accuracy Score: 0.9010\n"
     ]
    },
    {
     "output_type": "stream",
     "name": "stderr",
     "output_type": "stream",
     "text": [
      "2023/12/01 18:49:43 WARNING mlflow.utils.environment: Encountered an unexpected error while inferring pip requirements (model URI: /local_disk0/repl_tmp_data/ReplId-46d7d-0d5cc-2a578-e/tmptbr4wc1u/model/data, flavor: pytorch), fall back to return ['torch==2.0.1', 'cloudpickle==2.0.0']. Set logging level to DEBUG to see the full traceback.\n"
     ]
    },
    {
     "output_type": "display_data",
     "data": {
      "application/vnd.jupyter.widget-view+json": {
       "model_id": "7e6c492d44b844008ecdf3e88ac81a0e",
       "version_major": 2,
       "version_minor": 0
      },
      "text/plain": [
       "Uploading artifacts:   0%|          | 0/6 [00:00<?, ?it/s]"
      ]
     },
     "metadata": {},
     "output_type": "display_data"
    }
   ],
   "source": [
    "# Experiment 1_19\n",
    "if __name__ == '__main__':\n",
    "    main(weight = 'IMAGENET1K_V1', batch_size = 150, num_epochs = 15, learning_rate = 0.001, freeze_except_last_n_layers = 2, add_loss_criteria_weights = True, exp_name = 'RESNET18 E_1_19')"
   ]
  },
  {
   "cell_type": "code",
   "execution_count": 0,
   "metadata": {
    "application/vnd.databricks.v1+cell": {
     "cellMetadata": {
      "byteLimit": 2048000,
      "rowLimit": 10000
     },
     "inputWidgets": {},
     "nuid": "3b75ff85-1641-4d5d-a5c4-13f01d83c9c1",
     "showTitle": false,
     "title": ""
    }
   },
   "outputs": [
    {
     "output_type": "stream",
     "name": "stdout",
     "output_type": "stream",
     "text": [
      "Epoch 0/14\n----------\nTrain loss: 0.25, Acc: 0.9027\nVal loss: 2.6591, Acc: 0.6174\nEpoch 1/14\n----------\nTrain loss: 0.05, Acc: 0.9811\nVal loss: 0.0593, Acc: 0.9760\nEpoch 2/14\n----------\nTrain loss: 0.03, Acc: 0.9899\nVal loss: 0.4544, Acc: 0.9003\nEpoch 3/14\n----------\nTrain loss: 0.01, Acc: 0.9966\nVal loss: 0.1148, Acc: 0.9808\nEpoch 4/14\n----------\nTrain loss: 0.01, Acc: 0.9976\nVal loss: 0.0385, Acc: 0.9847\nEpoch 5/14\n----------\nTrain loss: 0.00, Acc: 0.9995\nVal loss: 0.0948, Acc: 0.9751\nEpoch 6/14\n----------\nTrain loss: 0.00, Acc: 1.0000\nVal loss: 0.0472, Acc: 0.9856\nEpoch 7/14\n----------\nTrain loss: 0.00, Acc: 0.9995\nVal loss: 0.2093, Acc: 0.9540\nEpoch 8/14\n----------\nTrain loss: 0.00, Acc: 0.9983\nVal loss: 0.1311, Acc: 0.9818\nEpoch 9/14\n----------\nTrain loss: 0.00, Acc: 0.9988\nVal loss: 0.1309, Acc: 0.9655\nEpoch 10/14\n----------\nTrain loss: 0.01, Acc: 0.9971\nVal loss: 0.3430, Acc: 0.9453\nEpoch 11/14\n----------\nTrain loss: 0.02, Acc: 0.9928\nVal loss: 0.1881, Acc: 0.9521\nEpoch 12/14\n----------\nTrain loss: 0.02, Acc: 0.9945\nVal loss: 0.1217, Acc: 0.9674\nEpoch 13/14\n----------\nTrain loss: 0.01, Acc: 0.9959\nVal loss: 0.2609, Acc: 0.9569\nEpoch 14/14\n----------\nTrain loss: 0.01, Acc: 0.9954\nVal loss: 0.2749, Acc: 0.9214\nBest Validation accuracy: 0.9856 at epoch 6\n---Testing Model---\nAccuracy Score: 0.9328\nAverage Precision Score: 0.9141\nBalanced Accuracy Score: 0.9193\n"
     ]
    },
    {
     "output_type": "stream",
     "name": "stderr",
     "output_type": "stream",
     "text": [
      "2023/12/01 19:32:28 WARNING mlflow.utils.environment: Encountered an unexpected error while inferring pip requirements (model URI: /local_disk0/repl_tmp_data/ReplId-46d7d-0d5cc-2a578-e/tmp5eugc7bs/model/data, flavor: pytorch), fall back to return ['torch==2.0.1', 'cloudpickle==2.0.0']. Set logging level to DEBUG to see the full traceback.\n"
     ]
    },
    {
     "output_type": "display_data",
     "data": {
      "application/vnd.jupyter.widget-view+json": {
       "model_id": "b95b7b086bee442eaad29ddc0098f184",
       "version_major": 2,
       "version_minor": 0
      },
      "text/plain": [
       "Uploading artifacts:   0%|          | 0/6 [00:00<?, ?it/s]"
      ]
     },
     "metadata": {},
     "output_type": "display_data"
    }
   ],
   "source": [
    "# Experiment 1_20\n",
    "if __name__ == '__main__':\n",
    "    main(weight = 'IMAGENET1K_V1', batch_size = 200, num_epochs = 15, learning_rate = 0.001, freeze_except_last_n_layers = 2, add_loss_criteria_weights = True, exp_name = 'RESNET18 E_1_20')"
   ]
  },
  {
   "cell_type": "code",
   "execution_count": 0,
   "metadata": {
    "application/vnd.databricks.v1+cell": {
     "cellMetadata": {
      "byteLimit": 2048000,
      "rowLimit": 10000
     },
     "inputWidgets": {},
     "nuid": "9fbcc69c-b7f7-4c74-b1ca-bf0a8628600a",
     "showTitle": false,
     "title": ""
    }
   },
   "outputs": [
    {
     "output_type": "stream",
     "name": "stdout",
     "output_type": "stream",
     "text": [
      "Epoch 0/14\n----------\nTrain loss: 0.33, Acc: 0.8828\nVal loss: 0.1887, Acc: 0.9329\nEpoch 1/14\n----------\nTrain loss: 0.19, Acc: 0.9341\nVal loss: 0.1616, Acc: 0.9291\nEpoch 2/14\n----------\nTrain loss: 0.16, Acc: 0.9413\nVal loss: 0.1427, Acc: 0.9511\nEpoch 3/14\n----------\nTrain loss: 0.15, Acc: 0.9492\nVal loss: 0.1262, Acc: 0.9549\nEpoch 4/14\n----------\nTrain loss: 0.14, Acc: 0.9518\nVal loss: 0.1204, Acc: 0.9559\nEpoch 5/14\n----------\nTrain loss: 0.13, Acc: 0.9521\nVal loss: 0.1156, Acc: 0.9569\nEpoch 6/14\n----------\nTrain loss: 0.12, Acc: 0.9590\nVal loss: 0.1130, Acc: 0.9530\nEpoch 7/14\n----------\nTrain loss: 0.12, Acc: 0.9549\nVal loss: 0.1082, Acc: 0.9607\nEpoch 8/14\n----------\nTrain loss: 0.12, Acc: 0.9561\nVal loss: 0.1069, Acc: 0.9636\nEpoch 9/14\n----------\nTrain loss: 0.12, Acc: 0.9549\nVal loss: 0.1041, Acc: 0.9645\nEpoch 10/14\n----------\nTrain loss: 0.11, Acc: 0.9588\nVal loss: 0.1252, Acc: 0.9444\nEpoch 11/14\n----------\nTrain loss: 0.11, Acc: 0.9609\nVal loss: 0.1040, Acc: 0.9664\nEpoch 12/14\n----------\nTrain loss: 0.10, Acc: 0.9648\nVal loss: 0.1028, Acc: 0.9559\nEpoch 13/14\n----------\nTrain loss: 0.11, Acc: 0.9617\nVal loss: 0.1003, Acc: 0.9588\nEpoch 14/14\n----------\nTrain loss: 0.11, Acc: 0.9605\nVal loss: 0.0967, Acc: 0.9674\nBest Validation accuracy: 0.9674 at epoch 14\n---Testing Model---\nAccuracy Score: 0.8922\nAverage Precision Score: 0.8840\nBalanced Accuracy Score: 0.8825\n"
     ]
    },
    {
     "output_type": "stream",
     "name": "stderr",
     "output_type": "stream",
     "text": [
      "2023/12/01 20:13:59 WARNING mlflow.utils.environment: Encountered an unexpected error while inferring pip requirements (model URI: /local_disk0/repl_tmp_data/ReplId-46d7d-0d5cc-2a578-e/tmpsfna29qm/model/data, flavor: pytorch), fall back to return ['torch==2.0.1', 'cloudpickle==2.0.0']. Set logging level to DEBUG to see the full traceback.\n"
     ]
    },
    {
     "output_type": "display_data",
     "data": {
      "application/vnd.jupyter.widget-view+json": {
       "model_id": "7e47b8ef1a49472e8f86cb195970c697",
       "version_major": 2,
       "version_minor": 0
      },
      "text/plain": [
       "Uploading artifacts:   0%|          | 0/6 [00:00<?, ?it/s]"
      ]
     },
     "metadata": {},
     "output_type": "display_data"
    }
   ],
   "source": [
    "# Experiment 1_21\n",
    "if __name__ == '__main__':\n",
    "    main(weight = 'IMAGENET1K_V1', batch_size = 50, num_epochs = 15, learning_rate = 0.001, freeze_except_last_n_layers = 1, add_loss_criteria_weights = True, exp_name = 'RESNET18 E_1_21')"
   ]
  },
  {
   "cell_type": "code",
   "execution_count": 0,
   "metadata": {
    "application/vnd.databricks.v1+cell": {
     "cellMetadata": {
      "byteLimit": 2048000,
      "rowLimit": 10000
     },
     "inputWidgets": {},
     "nuid": "b784c1f7-ccde-430f-b8f5-f1054fc18403",
     "showTitle": false,
     "title": ""
    }
   },
   "outputs": [
    {
     "output_type": "stream",
     "name": "stdout",
     "output_type": "stream",
     "text": [
      "Epoch 0/14\n----------\nTrain loss: 0.45, Acc: 0.8294\nVal loss: 0.4021, Acc: 0.8744\nEpoch 1/14\n----------\nTrain loss: 0.22, Acc: 0.9286\nVal loss: 0.2021, Acc: 0.9386\nEpoch 2/14\n----------\nTrain loss: 0.19, Acc: 0.9360\nVal loss: 0.1784, Acc: 0.9453\nEpoch 3/14\n----------\nTrain loss: 0.16, Acc: 0.9458\nVal loss: 0.1653, Acc: 0.9482\nEpoch 4/14\n----------\nTrain loss: 0.16, Acc: 0.9444\nVal loss: 0.1488, Acc: 0.9549\nEpoch 5/14\n----------\nTrain loss: 0.14, Acc: 0.9518\nVal loss: 0.1429, Acc: 0.9501\nEpoch 6/14\n----------\nTrain loss: 0.14, Acc: 0.9516\nVal loss: 0.1367, Acc: 0.9540\nEpoch 7/14\n----------\nTrain loss: 0.14, Acc: 0.9502\nVal loss: 0.1329, Acc: 0.9597\nEpoch 8/14\n----------\nTrain loss: 0.13, Acc: 0.9559\nVal loss: 0.1310, Acc: 0.9501\nEpoch 9/14\n----------\nTrain loss: 0.12, Acc: 0.9554\nVal loss: 0.1298, Acc: 0.9569\nEpoch 10/14\n----------\nTrain loss: 0.12, Acc: 0.9593\nVal loss: 0.1265, Acc: 0.9521\nEpoch 11/14\n----------\nTrain loss: 0.12, Acc: 0.9530\nVal loss: 0.1199, Acc: 0.9588\nEpoch 12/14\n----------\nTrain loss: 0.11, Acc: 0.9619\nVal loss: 0.1200, Acc: 0.9597\nEpoch 13/14\n----------\nTrain loss: 0.11, Acc: 0.9619\nVal loss: 0.1156, Acc: 0.9616\nEpoch 14/14\n----------\nTrain loss: 0.11, Acc: 0.9597\nVal loss: 0.1124, Acc: 0.9597\nBest Validation accuracy: 0.9616 at epoch 13\n---Testing Model---\nAccuracy Score: 0.8781\nAverage Precision Score: 0.8702\nBalanced Accuracy Score: 0.8672\n"
     ]
    },
    {
     "output_type": "stream",
     "name": "stderr",
     "output_type": "stream",
     "text": [
      "2023/12/01 20:55:18 WARNING mlflow.utils.environment: Encountered an unexpected error while inferring pip requirements (model URI: /local_disk0/repl_tmp_data/ReplId-46d7d-0d5cc-2a578-e/tmpm180cri0/model/data, flavor: pytorch), fall back to return ['torch==2.0.1', 'cloudpickle==2.0.0']. Set logging level to DEBUG to see the full traceback.\n"
     ]
    },
    {
     "output_type": "display_data",
     "data": {
      "application/vnd.jupyter.widget-view+json": {
       "model_id": "285f089c5081415e9fbcc425d6ce14b3",
       "version_major": 2,
       "version_minor": 0
      },
      "text/plain": [
       "Uploading artifacts:   0%|          | 0/6 [00:00<?, ?it/s]"
      ]
     },
     "metadata": {},
     "output_type": "display_data"
    }
   ],
   "source": [
    "# Experiment 1_22\n",
    "if __name__ == '__main__':\n",
    "    main(weight = 'IMAGENET1K_V1', batch_size = 100, num_epochs = 15, learning_rate = 0.001, freeze_except_last_n_layers = 1, add_loss_criteria_weights = True, exp_name = 'RESNET18 E_1_22')"
   ]
  },
  {
   "cell_type": "code",
   "execution_count": 0,
   "metadata": {
    "application/vnd.databricks.v1+cell": {
     "cellMetadata": {
      "byteLimit": 2048000,
      "rowLimit": 10000
     },
     "inputWidgets": {},
     "nuid": "cc3fc713-9ed7-4fbd-8f53-9a51d9922b8b",
     "showTitle": false,
     "title": ""
    }
   },
   "outputs": [
    {
     "output_type": "stream",
     "name": "stdout",
     "output_type": "stream",
     "text": [
      "Epoch 0/14\n----------\nTrain loss: 0.43, Acc: 0.8442\nVal loss: 0.4068, Acc: 0.8802\nEpoch 1/14\n----------\nTrain loss: 0.22, Acc: 0.9303\nVal loss: 0.2387, Acc: 0.9348\nEpoch 2/14\n----------\nTrain loss: 0.18, Acc: 0.9396\nVal loss: 0.1663, Acc: 0.9415\nEpoch 3/14\n----------\nTrain loss: 0.17, Acc: 0.9444\nVal loss: 0.1495, Acc: 0.9453\nEpoch 4/14\n----------\nTrain loss: 0.15, Acc: 0.9482\nVal loss: 0.1509, Acc: 0.9367\nEpoch 5/14\n----------\nTrain loss: 0.15, Acc: 0.9437\nVal loss: 0.1508, Acc: 0.9511\nEpoch 6/14\n----------\nTrain loss: 0.14, Acc: 0.9504\nVal loss: 0.1311, Acc: 0.9549\nEpoch 7/14\n----------\nTrain loss: 0.13, Acc: 0.9535\nVal loss: 0.1290, Acc: 0.9549\nEpoch 8/14\n----------\nTrain loss: 0.13, Acc: 0.9561\nVal loss: 0.1278, Acc: 0.9588\nEpoch 9/14\n----------\nTrain loss: 0.12, Acc: 0.9566\nVal loss: 0.1216, Acc: 0.9578\nEpoch 10/14\n----------\nTrain loss: 0.12, Acc: 0.9585\nVal loss: 0.1184, Acc: 0.9588\nEpoch 11/14\n----------\nTrain loss: 0.12, Acc: 0.9552\nVal loss: 0.1166, Acc: 0.9569\nEpoch 12/14\n----------\nTrain loss: 0.11, Acc: 0.9626\nVal loss: 0.1145, Acc: 0.9578\nEpoch 13/14\n----------\nTrain loss: 0.12, Acc: 0.9561\nVal loss: 0.1130, Acc: 0.9607\nEpoch 14/14\n----------\nTrain loss: 0.11, Acc: 0.9619\nVal loss: 0.1113, Acc: 0.9626\nBest Validation accuracy: 0.9626 at epoch 14\n---Testing Model---\nAccuracy Score: 0.8734\nAverage Precision Score: 0.8763\nBalanced Accuracy Score: 0.8699\n"
     ]
    },
    {
     "output_type": "stream",
     "name": "stderr",
     "output_type": "stream",
     "text": [
      "2023/12/01 21:36:47 WARNING mlflow.utils.environment: Encountered an unexpected error while inferring pip requirements (model URI: /local_disk0/repl_tmp_data/ReplId-46d7d-0d5cc-2a578-e/tmpx469e1o6/model/data, flavor: pytorch), fall back to return ['torch==2.0.1', 'cloudpickle==2.0.0']. Set logging level to DEBUG to see the full traceback.\n"
     ]
    },
    {
     "output_type": "display_data",
     "data": {
      "application/vnd.jupyter.widget-view+json": {
       "model_id": "605e3f34e8b644f19dafcdca78182f89",
       "version_major": 2,
       "version_minor": 0
      },
      "text/plain": [
       "Uploading artifacts:   0%|          | 0/6 [00:00<?, ?it/s]"
      ]
     },
     "metadata": {},
     "output_type": "display_data"
    }
   ],
   "source": [
    "# Experiment 1_23\n",
    "if __name__ == '__main__':\n",
    "    main(weight = 'IMAGENET1K_V1', batch_size = 150, num_epochs = 15, learning_rate = 0.001, freeze_except_last_n_layers = 1, add_loss_criteria_weights = True, exp_name = 'RESNET18 E_1_23')"
   ]
  },
  {
   "cell_type": "code",
   "execution_count": 0,
   "metadata": {
    "application/vnd.databricks.v1+cell": {
     "cellMetadata": {
      "byteLimit": 2048000,
      "rowLimit": 10000
     },
     "inputWidgets": {},
     "nuid": "1a97c63d-3ae9-4f75-8f29-4dbbce6c6390",
     "showTitle": false,
     "title": ""
    }
   },
   "outputs": [
    {
     "output_type": "stream",
     "name": "stdout",
     "output_type": "stream",
     "text": [
      "Epoch 0/14\n----------\nTrain loss: 0.53, Acc: 0.7925\nVal loss: 0.5669, Acc: 0.7929\nEpoch 1/14\n----------\nTrain loss: 0.27, Acc: 0.9260\nVal loss: 0.4442, Acc: 0.8476\nEpoch 2/14\n----------\nTrain loss: 0.21, Acc: 0.9348\nVal loss: 0.2309, Acc: 0.9386\nEpoch 3/14\n----------\nTrain loss: 0.18, Acc: 0.9379\nVal loss: 0.1919, Acc: 0.9434\nEpoch 4/14\n----------\nTrain loss: 0.17, Acc: 0.9451\nVal loss: 0.1751, Acc: 0.9348\nEpoch 5/14\n----------\nTrain loss: 0.15, Acc: 0.9480\nVal loss: 0.1668, Acc: 0.9501\nEpoch 6/14\n----------\nTrain loss: 0.15, Acc: 0.9504\nVal loss: 0.1586, Acc: 0.9492\nEpoch 7/14\n----------\nTrain loss: 0.14, Acc: 0.9492\nVal loss: 0.1550, Acc: 0.9540\nEpoch 8/14\n----------\nTrain loss: 0.13, Acc: 0.9545\nVal loss: 0.1508, Acc: 0.9549\nEpoch 9/14\n----------\nTrain loss: 0.13, Acc: 0.9561\nVal loss: 0.1499, Acc: 0.9434\nEpoch 10/14\n----------\nTrain loss: 0.13, Acc: 0.9504\nVal loss: 0.1444, Acc: 0.9434\nEpoch 11/14\n----------\nTrain loss: 0.13, Acc: 0.9545\nVal loss: 0.1394, Acc: 0.9578\nEpoch 12/14\n----------\nTrain loss: 0.12, Acc: 0.9573\nVal loss: 0.1363, Acc: 0.9463\nEpoch 13/14\n----------\nTrain loss: 0.12, Acc: 0.9607\nVal loss: 0.1300, Acc: 0.9511\nEpoch 14/14\n----------\nTrain loss: 0.12, Acc: 0.9554\nVal loss: 0.1308, Acc: 0.9597\nBest Validation accuracy: 0.9597 at epoch 14\n---Testing Model---\nAccuracy Score: 0.8875\nAverage Precision Score: 0.8779\nBalanced Accuracy Score: 0.8763\n"
     ]
    },
    {
     "output_type": "stream",
     "name": "stderr",
     "output_type": "stream",
     "text": [
      "2023/12/01 22:18:31 WARNING mlflow.utils.environment: Encountered an unexpected error while inferring pip requirements (model URI: /local_disk0/repl_tmp_data/ReplId-46d7d-0d5cc-2a578-e/tmpl7rg162i/model/data, flavor: pytorch), fall back to return ['torch==2.0.1', 'cloudpickle==2.0.0']. Set logging level to DEBUG to see the full traceback.\n"
     ]
    },
    {
     "output_type": "display_data",
     "data": {
      "application/vnd.jupyter.widget-view+json": {
       "model_id": "4c04f0af3e1f4d35a5cff9c6fc6b639a",
       "version_major": 2,
       "version_minor": 0
      },
      "text/plain": [
       "Uploading artifacts:   0%|          | 0/6 [00:00<?, ?it/s]"
      ]
     },
     "metadata": {},
     "output_type": "display_data"
    }
   ],
   "source": [
    "# Experiment 1_24\n",
    "if __name__ == '__main__':\n",
    "    main(weight = 'IMAGENET1K_V1', batch_size = 200, num_epochs = 15, learning_rate = 0.001, freeze_except_last_n_layers = 1, add_loss_criteria_weights = True, exp_name = 'RESNET18 E_1_24')"
   ]
  },
  {
   "cell_type": "code",
   "execution_count": 0,
   "metadata": {
    "application/vnd.databricks.v1+cell": {
     "cellMetadata": {
      "byteLimit": 2048000,
      "rowLimit": 10000
     },
     "inputWidgets": {},
     "nuid": "0ab755d2-7079-4a1d-9a7e-c1e75e1aaf28",
     "showTitle": false,
     "title": ""
    }
   },
   "outputs": [],
   "source": []
  }
 ],
 "metadata": {
  "application/vnd.databricks.v1+notebook": {
   "dashboards": [],
   "language": "python",
   "notebookMetadata": {
    "mostRecentlyExecutedCommandWithImplicitDF": {
     "commandId": 708418984708797,
     "dataframes": [
      "_sqldf"
     ]
    },
    "pythonIndentUnit": 4
   },
   "notebookName": "RESNET18 IMAGENET1K_V1",
   "widgets": {}
  }
 },
 "nbformat": 4,
 "nbformat_minor": 0
}
